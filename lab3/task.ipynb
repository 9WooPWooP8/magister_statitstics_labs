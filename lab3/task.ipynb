{
 "cells": [
  {
   "cell_type": "code",
   "execution_count": 15,
   "id": "c7fe7230-29f8-4d76-a168-c4eacb1f9c63",
   "metadata": {},
   "outputs": [
    {
     "name": "stdout",
     "output_type": "stream",
     "text": [
      "CountVectorizer(stop_words=['english'], token_pattern='[^\\\\W\\\\d_]+')\n"
     ]
    }
   ],
   "source": [
    "from sklearn.feature_extraction.text import CountVectorizer\n",
    "vectorizer = CountVectorizer(min_df = 1, stop_words=[\"english\"], token_pattern=r\"[^\\W\\d_]+\")\n",
    "print (vectorizer)\n",
    "\n"
   ]
  },
  {
   "cell_type": "code",
   "execution_count": 16,
   "id": "3c966d97-7f0c-40f5-a2a6-efa28902b8aa",
   "metadata": {},
   "outputs": [],
   "source": [
    "with open(\"./data/alt.atheism.txt\", \"r\", encoding='ISO-8859-1') as file:\n",
    "    lines = file.readlines()\n"
   ]
  },
  {
   "cell_type": "code",
   "execution_count": null,
   "id": "724870a0-3687-4f22-b784-3662230d1779",
   "metadata": {},
   "outputs": [],
   "source": []
  },
  {
   "cell_type": "code",
   "execution_count": 17,
   "id": "bbbeeac2-7790-413f-b1f5-21324fc586de",
   "metadata": {},
   "outputs": [
    {
     "name": "stdout",
     "output_type": "stream",
     "text": [
      "ns= 120487, nf= 14049\n"
     ]
    }
   ],
   "source": [
    "X_train = vectorizer.fit_transform(lines)\n",
    "# число сообщений, длина словаря\n",
    "num_samples, num_features = X_train.shape\n",
    "print ('ns= %d, nf= %d' % (num_samples, num_features))"
   ]
  },
  {
   "cell_type": "code",
   "execution_count": 18,
   "id": "11389101-70af-428a-8a23-c02f80a4b9c8",
   "metadata": {},
   "outputs": [
    {
     "name": "stdout",
     "output_type": "stream",
     "text": [
      "['a' 'aa' 'aaa' ... 'zvonko' 'zyklon' 'ÿ']\n"
     ]
    }
   ],
   "source": [
    "print (vectorizer.get_feature_names_out())"
   ]
  },
  {
   "cell_type": "code",
   "execution_count": null,
   "id": "5e55b8e3-1df8-4ab2-8ad6-cf4a739b7d57",
   "metadata": {},
   "outputs": [],
   "source": []
  }
 ],
 "metadata": {
  "kernelspec": {
   "display_name": "Python 3 (ipykernel)",
   "language": "python",
   "name": "python3"
  },
  "language_info": {
   "codemirror_mode": {
    "name": "ipython",
    "version": 3
   },
   "file_extension": ".py",
   "mimetype": "text/x-python",
   "name": "python",
   "nbconvert_exporter": "python",
   "pygments_lexer": "ipython3",
   "version": "3.12.7"
  }
 },
 "nbformat": 4,
 "nbformat_minor": 5
}
