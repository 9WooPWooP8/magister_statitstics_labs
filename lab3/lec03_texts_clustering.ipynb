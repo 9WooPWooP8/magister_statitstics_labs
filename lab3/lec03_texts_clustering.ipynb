{
 "cells": [
  {
   "cell_type": "markdown",
   "metadata": {
    "id": "W86MyIzf6qzj"
   },
   "source": [
    "# Кластеризация текстов\n",
    "Используется встроенный набор данных"
   ]
  },
  {
   "cell_type": "code",
   "execution_count": 1,
   "metadata": {
    "colab": {
     "base_uri": "https://localhost:8080/"
    },
    "id": "Pqlffy7xPilN",
    "outputId": "50d8ea96-bd99-4954-c201-fee1903b38ce"
   },
   "outputs": [
    {
     "name": "stdout",
     "output_type": "stream",
     "text": [
      "18846\n"
     ]
    }
   ],
   "source": [
    "import sklearn.datasets\n",
    "all_data = sklearn.datasets.fetch_20newsgroups(subset = 'all')\n",
    "print(len(all_data.filenames))"
   ]
  },
  {
   "cell_type": "markdown",
   "metadata": {
    "id": "kFaU1LN87JN7"
   },
   "source": [
    "Имена категорий (их 20)"
   ]
  },
  {
   "cell_type": "code",
   "execution_count": 2,
   "metadata": {
    "colab": {
     "base_uri": "https://localhost:8080/"
    },
    "id": "qz4pUFxVQKD4",
    "outputId": "431ba99d-8e69-4ff1-f01b-a2534d249147"
   },
   "outputs": [
    {
     "name": "stdout",
     "output_type": "stream",
     "text": [
      "['alt.atheism', 'comp.graphics', 'comp.os.ms-windows.misc', 'comp.sys.ibm.pc.hardware', 'comp.sys.mac.hardware', 'comp.windows.x', 'misc.forsale', 'rec.autos', 'rec.motorcycles', 'rec.sport.baseball', 'rec.sport.hockey', 'sci.crypt', 'sci.electronics', 'sci.med', 'sci.space', 'soc.religion.christian', 'talk.politics.guns', 'talk.politics.mideast', 'talk.politics.misc', 'talk.religion.misc']\n"
     ]
    }
   ],
   "source": [
    "print(all_data.target_names)"
   ]
  },
  {
   "cell_type": "markdown",
   "metadata": {
    "id": "dIwaWgZw7QM8"
   },
   "source": [
    "## Выделение обучающей и тестовой выборок\n",
    "Для кластеризации это не нужно, но данные размечены и их можно использовать для построения моделей классификации"
   ]
  },
  {
   "cell_type": "markdown",
   "metadata": {
    "id": "bB3JyI0H68Hh"
   },
   "source": [
    "Используется параметр subset:"
   ]
  },
  {
   "cell_type": "code",
   "execution_count": 3,
   "metadata": {
    "colab": {
     "base_uri": "https://localhost:8080/"
    },
    "id": "9VnRjmhDQQKi",
    "outputId": "3e9315ae-d2f1-4f19-f264-8b8f6a2d1d49"
   },
   "outputs": [
    {
     "name": "stdout",
     "output_type": "stream",
     "text": [
      "11314\n"
     ]
    }
   ],
   "source": [
    "train_data = sklearn.datasets.fetch_20newsgroups(subset = 'train')\n",
    "print(len(train_data.filenames))"
   ]
  },
  {
   "cell_type": "code",
   "execution_count": 4,
   "metadata": {
    "colab": {
     "base_uri": "https://localhost:8080/"
    },
    "id": "TFbdTRhMQabh",
    "outputId": "44723c8e-c720-4f55-fd7c-ccf2c3feb86e"
   },
   "outputs": [
    {
     "name": "stdout",
     "output_type": "stream",
     "text": [
      "7532\n"
     ]
    }
   ],
   "source": [
    "test_data = sklearn.datasets.fetch_20newsgroups(subset = 'test')\n",
    "print(len(test_data.filenames))"
   ]
  },
  {
   "cell_type": "markdown",
   "metadata": {
    "id": "ZaJ36dMx5xsK"
   },
   "source": [
    "Используем несколько категорий"
   ]
  },
  {
   "cell_type": "code",
   "execution_count": 5,
   "metadata": {
    "colab": {
     "base_uri": "https://localhost:8080/"
    },
    "id": "fvwbMfIgQsJd",
    "outputId": "d278f370-20cc-429f-abe9-4aebf1149cfe"
   },
   "outputs": [
    {
     "name": "stdout",
     "output_type": "stream",
     "text": [
      "3529\n",
      "2349\n"
     ]
    }
   ],
   "source": [
    "groups = ['comp.graphics', 'comp.os.ms-windows.misc',\n",
    "'comp.sys.ibm.pc.hardware', 'comp.sys.mac.hardware',\n",
    "'comp.windows.x', 'sci.space']\n",
    "\n",
    "train_data = sklearn.datasets.fetch_20newsgroups(subset = 'train', categories = groups)\n",
    "print(len(train_data.filenames))\n",
    "\n",
    "test_data = sklearn.datasets.fetch_20newsgroups(subset = 'test', categories = groups)\n",
    "print(len(test_data.filenames))"
   ]
  },
  {
   "cell_type": "markdown",
   "metadata": {
    "id": "56GNac1W7nP-"
   },
   "source": [
    "Метки классов в размеченных данных:"
   ]
  },
  {
   "cell_type": "code",
   "execution_count": 6,
   "metadata": {
    "colab": {
     "base_uri": "https://localhost:8080/"
    },
    "id": "-Y1iTPYcQ42V",
    "outputId": "8ded0348-8a01-45e0-f61b-4775f4aa93dd"
   },
   "outputs": [
    {
     "data": {
      "text/plain": [
       "array([5, 3, 1, ..., 2, 3, 4])"
      ]
     },
     "execution_count": 6,
     "metadata": {},
     "output_type": "execute_result"
    }
   ],
   "source": [
    "labels = train_data.target\n",
    "labels"
   ]
  },
  {
   "cell_type": "markdown",
   "metadata": {
    "id": "VWeizY376DBQ"
   },
   "source": [
    "Создадим свой класс для стемминга и векторизации"
   ]
  },
  {
   "cell_type": "markdown",
   "metadata": {
    "id": "iltPj2n97jyn"
   },
   "source": [
    "Если есть сложности с ООП на Python - см. комментарии"
   ]
  },
  {
   "cell_type": "code",
   "execution_count": 7,
   "metadata": {
    "id": "S100sKUsRINu"
   },
   "outputs": [],
   "source": [
    "import nltk.stem\n",
    "english_stemmer = nltk.stem.SnowballStemmer('english')\n",
    "\n",
    "from sklearn.feature_extraction.text import TfidfVectorizer\n",
    "# стемминг + TF_IDF векторизация в одном классе\n",
    "class StemmedTfidfVectorizer(TfidfVectorizer):\n",
    "# переопределение наследованного метода\n",
    "    def build_analyzer(self):\n",
    "        # метод super для обращения к методу родительского класса\n",
    "        analyzer = super(TfidfVectorizer, self).build_analyzer()\n",
    "        # стемминг текста\n",
    "        # analyzer(doc) выделяет пос-ть слов-признаков из doc\n",
    "        # к каждому слову применяется стемминг\n",
    "        return lambda doc: (english_stemmer.stem(w) for w in analyzer(doc))\n"
   ]
  },
  {
   "cell_type": "markdown",
   "metadata": {
    "id": "dQ0S5QP272_B"
   },
   "source": [
    "Векторизация = обучение модели-векторизатора и преобразование исходных данных"
   ]
  },
  {
   "cell_type": "code",
   "execution_count": 8,
   "metadata": {
    "colab": {
     "base_uri": "https://localhost:8080/"
    },
    "id": "vBeyTOaCRPL8",
    "outputId": "093bca38-43eb-4d01-ccf4-b51f6cfa6ab8"
   },
   "outputs": [
    {
     "name": "stdout",
     "output_type": "stream",
     "text": [
      "#samples: 3529, #features: 4712\n"
     ]
    }
   ],
   "source": [
    "vectorizer = StemmedTfidfVectorizer(min_df=10, max_df=0.5, stop_words='english', decode_error='ignore')\n",
    "\n",
    "# обучение и преобразование\n",
    "vectorized = vectorizer.fit_transform(train_data.data)\n",
    "num_samples, num_features = vectorized.shape\n",
    "print(\"#samples: %d, #features: %d\" % (num_samples, num_features))"
   ]
  },
  {
   "cell_type": "markdown",
   "metadata": {
    "id": "M8T4AO3e6Una"
   },
   "source": [
    "Кластеризация без выбора оптимального числа классов"
   ]
  },
  {
   "cell_type": "code",
   "execution_count": 9,
   "metadata": {
    "colab": {
     "base_uri": "https://localhost:8080/"
    },
    "id": "PN6U4Ow-SHk_",
    "outputId": "348b22bb-2f90-49e8-99a0-37a92439c105"
   },
   "outputs": [
    {
     "name": "stdout",
     "output_type": "stream",
     "text": [
      "Initialization complete\n",
      "Iteration 0, inertia 5668.2176871419515.\n",
      "Iteration 1, inertia 3166.8781058415925.\n",
      "Iteration 2, inertia 3132.141380733978.\n",
      "Iteration 3, inertia 3117.1024634663454.\n",
      "Iteration 4, inertia 3108.818672519524.\n",
      "Iteration 5, inertia 3104.351257977539.\n",
      "Iteration 6, inertia 3100.911199069322.\n",
      "Iteration 7, inertia 3098.5884575936707.\n",
      "Iteration 8, inertia 3096.7796420756845.\n",
      "Iteration 9, inertia 3096.00724812151.\n",
      "Iteration 10, inertia 3095.616810617797.\n",
      "Iteration 11, inertia 3095.2431406969886.\n",
      "Iteration 12, inertia 3094.9055755323893.\n",
      "Iteration 13, inertia 3094.762653418838.\n",
      "Iteration 14, inertia 3094.719805116146.\n",
      "Converged at iteration 14: strict convergence.\n",
      "km.labels_=[38 27 31 ... 23 41 46]\n"
     ]
    }
   ],
   "source": [
    "#кластеризация по методу k means\n",
    "num_clusters = 50\n",
    "from sklearn.cluster import KMeans\n",
    "# кластеризатор\n",
    "km = KMeans(n_clusters=num_clusters, n_init=1, verbose=1, random_state=3)\n",
    "clustered = km.fit(vectorized)# обучение\n",
    "# метки сообщений по кластерам\n",
    "print(\"km.labels_=%s\" % km.labels_)"
   ]
  },
  {
   "cell_type": "markdown",
   "metadata": {
    "id": "LfzHzgMe7-Dp"
   },
   "source": [
    "### Проверка"
   ]
  },
  {
   "cell_type": "code",
   "execution_count": 10,
   "metadata": {
    "colab": {
     "base_uri": "https://localhost:8080/"
    },
    "id": "hiTf4o5KSWWu",
    "outputId": "fb71d34b-11ed-43bc-eeae-6a43247018c8"
   },
   "outputs": [
    {
     "name": "stdout",
     "output_type": "stream",
     "text": [
      "km.labels_.shape=3529\n"
     ]
    }
   ],
   "source": [
    "# все отобранные документы попали в кластеры?\n",
    "print(\"km.labels_.shape=%s\" % km.labels_.shape)"
   ]
  },
  {
   "cell_type": "code",
   "execution_count": 11,
   "metadata": {
    "colab": {
     "base_uri": "https://localhost:8080/"
    },
    "id": "-s_-SDosSlC4",
    "outputId": "1ed435e4-fabb-4a60-e533-cb3420c936fb"
   },
   "outputs": [
    {
     "name": "stdout",
     "output_type": "stream",
     "text": [
      "km.centers_=[[0.00672873 0.00204574 0.         ... 0.         0.         0.        ]\n",
      " [0.00511381 0.00012125 0.01078844 ... 0.00015004 0.         0.        ]\n",
      " [0.00173207 0.         0.         ... 0.00283602 0.         0.        ]\n",
      " ...\n",
      " [0.00134816 0.         0.         ... 0.         0.         0.        ]\n",
      " [0.         0.01367382 0.         ... 0.         0.         0.        ]\n",
      " [0.00111957 0.         0.         ... 0.         0.         0.        ]]\n"
     ]
    }
   ],
   "source": [
    "# центроиды кластеров\n",
    "print(\"km.centers_=%s\" % km.cluster_centers_)"
   ]
  },
  {
   "cell_type": "markdown",
   "metadata": {
    "id": "qXO9lMhTS195"
   },
   "source": [
    "**Вспомним исходную задачу - определим кластер для нового документа**"
   ]
  },
  {
   "cell_type": "code",
   "execution_count": 12,
   "metadata": {
    "colab": {
     "base_uri": "https://localhost:8080/"
    },
    "id": "6FbOcwK1S6Ju",
    "outputId": "9a3e947b-5b27-416f-ad3d-cc90fc0379d2"
   },
   "outputs": [
    {
     "name": "stdout",
     "output_type": "stream",
     "text": [
      "predict_cluster_label:  5\n"
     ]
    }
   ],
   "source": [
    "new_post = \"Disk drive problems. Hi, I have a problem with my hard disk. After 10 years it is working terrible. I tried to format it, but I can't.\"\n",
    "\n",
    "# векторизация и прогноз\n",
    "new_post_vec = vectorizer.transform([new_post])\n",
    "new_post_label = km.predict(new_post_vec)[0]\n",
    "# какой кластер?\n",
    "print('predict_cluster_label: ', new_post_label)"
   ]
  },
  {
   "cell_type": "markdown",
   "metadata": {
    "id": "oIx7-YBZT0hT"
   },
   "source": [
    "### Новые задачи для выбранного кластера\n",
    "Какие документы в этом кластере?\n",
    "\n",
    "Какое расстояние до нового документа?"
   ]
  },
  {
   "cell_type": "code",
   "execution_count": 13,
   "metadata": {
    "colab": {
     "base_uri": "https://localhost:8080/"
    },
    "id": "JHyto_HPT6-A",
    "outputId": "44104f53-ea83-4b1b-a58a-962f6ce1b4b1"
   },
   "outputs": [
    {
     "name": "stdout",
     "output_type": "stream",
     "text": [
      "Count similar: 45\n"
     ]
    }
   ],
   "source": [
    "# индексы документов в выбранном кластере\n",
    "similar_indices = (km.labels_ == new_post_label).nonzero()[0]\n",
    "\n",
    "\n",
    "import scipy as sp\n",
    "# список документов и расстояний\n",
    "similar = []\n",
    "for i in similar_indices:\n",
    "    dist = sp.linalg.norm((new_post_vec - vectorized[i]).toarray())\n",
    "    similar.append((dist, train_data.data[i]))\n",
    "\n",
    "similar = sorted(similar)\n",
    "print(\"Count similar: %i\" % len(similar))\n"
   ]
  },
  {
   "cell_type": "markdown",
   "metadata": {
    "id": "jCdacaaWVDf7"
   },
   "source": [
    "### Выбор документов в кластере\n",
    "Возьмем ближайший, 5-й и средний по степени близости (расстоянию)"
   ]
  },
  {
   "cell_type": "code",
   "execution_count": 14,
   "metadata": {
    "id": "eyDCEs0UU2Jw"
   },
   "outputs": [],
   "source": [
    "show_at_1 = similar[0]\n",
    "show_at_2 = similar[int(len(similar) / 10)]\n",
    "show_at_3 = similar[int(len(similar) / 2)]\n"
   ]
  },
  {
   "cell_type": "code",
   "execution_count": 15,
   "metadata": {
    "colab": {
     "base_uri": "https://localhost:8080/"
    },
    "id": "ru8Z6PR-VeLP",
    "outputId": "90cfe960-b150-4e5d-b36b-e92d78a9bb2e"
   },
   "outputs": [
    {
     "name": "stdout",
     "output_type": "stream",
     "text": [
      "=== #1 ===\n",
      "(1.0828009833518932, \"From: rogntorb@idt.unit.no (Torbj|rn Rognes)\\nSubject: Adding int. hard disk drive to IIcx\\nKeywords: Mac IIcx, internal, hard disk drive, SCSI\\nReply-To: rogntorb@idt.unit.no (Torbj|rn Rognes)\\nOrganization: Div. of CS & Telematics, Norwegian Institute of Technology\\nLines: 32\\n\\nI haven't seen much info about how to add an extra internal disk to a\\nmac. We would like to try it, and I wonder if someone had some good\\nadvice.\\n\\nWe have a Mac IIcx with the original internal Quantum 40MB hard disk,\\nand an unusable floppy drive. We also have a new spare Connor 40MB\\ndisk which we would like to use. The idea is to replace the broken\\nfloppy drive with the new hard disk, but there seems to be some\\nproblems:\\n\\nThe internal SCSI cable and power cable inside the cx has only\\nconnectors for one single hard disk drive.\\n\\nIf I made a ribbon cable and a power cable with three connectors each\\n(1 for motherboard, 1 for each of the 2 disks), would it work?\\n\\nIs the IIcx able to supply the extra power to the extra disk?\\n\\nWhat about terminators? I suppose that i should remove the resistor\\npacks from the disk that is closest to the motherboard, but leave them\\ninstalled in the other disk.\\n\\nThe SCSI ID jumpers should also be changed so that the new disk gets\\nID #1. The old one should have ID #0.\\n\\nIt is no problem for us to remove the floppy drive, as we have an\\nexternal floppy that we can use if it won't boot of the hard disk.\\n\\nThank you!\\n\\n----------------------------------------------------------------------\\nTorbj|rn Rognes                            Email: rogntorb@idt.unit.no\\n\")\n",
      "\n",
      "=== #2 ===\n",
      "(1.1575016050001479, 'From: im14u2c@camelot.bradley.edu (Joe Zbiciak)\\nSubject: Re: Booting from B drive\\nNntp-Posting-Host: camelot.bradley.edu\\nOrganization: Happy Campers USA\\nLines: 25\\n\\nIn <C5nvvx.ns@mts.mivj.ca.us> rpao@mts.mivj.ca.us (Roger C. Pao) writes:\\n[much discussion about switching 5.25\" and 3.5\" drives removed]\\n\\nAnother (albeit strange) option is using a program like 800 II\\n(available via anonymous FTP at many major sites), or FDFORMAT\\n(also available via anonymous FTP), that allows you to format\\n5.25HD disks to 1.44Meg, or 3.5\"HD disks to 1.2Meg (along with\\nmany MANY other formats!) so you can DISKCOPY (yes, the broken\\nMeSsy-DOS DISKCOPY!) the 5.25\" disks onto 3.5\" disks or vice\\nversa...  I use this techniques with \"NON-DOS\" self-booting \\ngame disks on my old Tandy 1000, and it works...  Another program\\nnamed Teledisk (shareware--available on many major BBS\\'s) will\\nalso make the weird format disks, provided you have 800 II\\nor FDFormat installed....  Some disks that won\\'t DISKCOPY\\nproperly can be readily Teledisk\\'d into the proper format...\\nAt least this is a software solution for a hardware/BIOS \\ndeficiency, eh? \\n\\n\\n--\\nJoseph Zbiciak                         im14u2c@camelot.bradley.edu\\n[====Disclaimer--If you believe any of this, check your head!====]\\n------------------------------------------------------------------\\n\\nNuke the Whales!\\n')\n",
      "\n",
      "=== #3 ===\n",
      "(1.2955826742991359, 'From: djweisbe@unix.amherst.edu (David Weisberger)\\nSubject: Booting from B drive\\nNntp-Posting-Host: amhux3.amherst.edu\\nOrganization: large\\nX-Newsreader: TIN [version 1.1 PL7]\\nLines: 17\\n\\nI have a 5 1/4\" drive as drive A.  How can I make the system boot from\\nmy 3 1/2\" B drive?  (Optimally, the computer would be able to boot\\nfrom either A or B, checking them in order for a bootable disk.  But\\nif I have to switch cables around and simply switch the drives so that\\nit can\\'t boot 5 1/4\" disks, that\\'s OK.  Also, boot_b won\\'t do the trick\\nfor me.)\\n\\nThanks,\\n  Davebo\\n\\n--\\nDavid Weisberger   | Q: Mr. President, do you care to say any more about the\\n                   |    operational details of the airlift?\\ndjweisbe           | THE PRESIDENT:  No.\\n@unix.amherst.edu  | Q: How about explaining to the American people why it\\'s\\n                   |    an important issue for the United States to undertake?\\n                   | THE PRESIDENT:  What?\\n')\n"
     ]
    }
   ],
   "source": [
    "print(\"=== #1 ===\")\n",
    "print(show_at_1)\n",
    "print()\n",
    "\n",
    "print(\"=== #2 ===\")\n",
    "print(show_at_2)\n",
    "print()\n",
    "\n",
    "print(\"=== #3 ===\")\n",
    "print(show_at_3)\n"
   ]
  },
  {
   "cell_type": "markdown",
   "metadata": {
    "id": "Rm2k-h40W_Dz"
   },
   "source": [
    "### Дополнительный анализ\n",
    "Распределение расстояния от нового документа до элементов кластера"
   ]
  },
  {
   "cell_type": "code",
   "execution_count": 16,
   "metadata": {
    "colab": {
     "base_uri": "https://localhost:8080/",
     "height": 447
    },
    "id": "viqeZqVGVqKc",
    "outputId": "aaed5af0-10e6-4717-db59-9df10fcc7b8d"
   },
   "outputs": [
    {
     "data": {
      "text/plain": [
       "[<matplotlib.lines.Line2D at 0x789e83655ed0>]"
      ]
     },
     "execution_count": 16,
     "metadata": {},
     "output_type": "execute_result"
    },
    {
     "data": {
      "image/png": "[encoded data removed]",
      "text/plain": [
       "<Figure size 640x480 with 1 Axes>"
      ]
     },
     "metadata": {},
     "output_type": "display_data"
    }
   ],
   "source": [
    "import matplotlib.pyplot as plt\n",
    "plt.plot([x[0] for x in similar])"
   ]
  },
  {
   "cell_type": "markdown",
   "metadata": {
    "id": "zPJRMGiB-ysp"
   },
   "source": [
    "### Вывод\n",
    "Можно было взять из первой тройки:)"
   ]
  }
 ],
 "metadata": {
  "colab": {
   "provenance": []
  },
  "kernelspec": {
   "display_name": "Python 3 (ipykernel)",
   "language": "python",
   "name": "python3"
  },
  "language_info": {
   "codemirror_mode": {
    "name": "ipython",
    "version": 3
   },
   "file_extension": ".py",
   "mimetype": "text/x-python",
   "name": "python",
   "nbconvert_exporter": "python",
   "pygments_lexer": "ipython3",
   "version": "3.12.7"
  }
 },
 "nbformat": 4,
 "nbformat_minor": 4
}
