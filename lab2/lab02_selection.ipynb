{
 "cells": [
  {
   "cell_type": "markdown",
   "metadata": {
    "id": "3cps2yFijRlW"
   },
   "source": [
    "# Задача понижения размерности\n",
    "## Отбор признаков (feature selection)"
   ]
  },
  {
   "cell_type": "markdown",
   "metadata": {
    "id": "PFQvpUAijZnD"
   },
   "source": [
    "## Задача регрессии\n",
    "Числовые данные используются в качестве признаков и целевой переменной"
   ]
  },
  {
   "cell_type": "markdown",
   "metadata": {
    "id": "JfD4sADljrb6"
   },
   "source": [
    "### Отбор на основе коэффициента корреляции Пирсона"
   ]
  },
  {
   "cell_type": "markdown",
   "metadata": {
    "id": "N4p64CP1pKPZ"
   },
   "source": [
    "Импорт из библиотеки sklearn инструментов для генерации данных и отбора признаков"
   ]
  },
  {
   "cell_type": "code",
   "execution_count": 1,
   "metadata": {
    "id": "jeMMjyqPi9EV"
   },
   "outputs": [],
   "source": [
    "from sklearn.datasets import make_regression\n",
    "from sklearn.feature_selection import SelectKBest\n",
    "from sklearn.feature_selection import f_regression"
   ]
  },
  {
   "cell_type": "markdown",
   "metadata": {
    "id": "ozbK2eN0j7YE"
   },
   "source": [
    "### Учебный набор данных"
   ]
  },
  {
   "cell_type": "markdown",
   "metadata": {
    "id": "3rZGZZsapqmA"
   },
   "source": [
    "Зададим следующие значения параметров: размер выборки = 1000, число признаков = 10, из них информативных всего 3. Следовательно, после отбора именно столько признаков должно остаться"
   ]
  },
  {
   "cell_type": "code",
   "execution_count": 2,
   "metadata": {
    "colab": {
     "base_uri": "https://localhost:8080/"
    },
    "id": "xuvidq1Xj_RA",
    "outputId": "13770db3-b675-4c6e-80cc-df7159387a1f"
   },
   "outputs": [
    {
     "name": "stdout",
     "output_type": "stream",
     "text": [
      "(1000, 10) (1000,)\n"
     ]
    }
   ],
   "source": [
    "X, y = make_regression(n_samples=1000, n_features=10, n_informative=3)\n",
    "\n",
    "print(X.shape, y.shape)"
   ]
  },
  {
   "cell_type": "markdown",
   "metadata": {
    "id": "m2-FN5BIkEeO"
   },
   "source": [
    "Отбор признаков на основе корреляционных зависимостей"
   ]
  },
  {
   "cell_type": "code",
   "execution_count": 3,
   "metadata": {
    "colab": {
     "base_uri": "https://localhost:8080/"
    },
    "id": "JdYnpor5kM4B",
    "outputId": "b871619f-384a-4ed7-edfc-92caa4ca92de"
   },
   "outputs": [
    {
     "name": "stdout",
     "output_type": "stream",
     "text": [
      "(1000, 3)\n"
     ]
    }
   ],
   "source": [
    "fs = SelectKBest(score_func=f_regression, k=3)\n",
    "\n",
    "X_selected = fs.fit_transform(X, y)\n",
    "\n",
    "print(X_selected.shape)"
   ]
  },
  {
   "cell_type": "markdown",
   "metadata": {
    "id": "b-zKAhaMnMI0"
   },
   "source": [
    "Вычислим коэффициенты попарной корреляции для признаков"
   ]
  },
  {
   "cell_type": "code",
   "execution_count": 6,
   "metadata": {
    "colab": {
     "base_uri": "https://localhost:8080/",
     "height": 363
    },
    "id": "uNDtqm5hg-PM",
    "outputId": "ed28de31-73ae-4d79-8581-6734f8396463"
   },
   "outputs": [
    {
     "data": {
      "application/vnd.google.colaboratory.intrinsic+json": {
       "summary": "{\n  \"name\": \"df_corr\",\n  \"rows\": 10,\n  \"fields\": [\n    {\n      \"column\": 0,\n      \"properties\": {\n        \"dtype\": \"number\",\n        \"std\": 0.32241193012626695,\n        \"min\": -0.07922656595006271,\n        \"max\": 1.0,\n        \"num_unique_values\": 10,\n        \"samples\": [\n          -0.07922656595006271,\n          0.01554898921607899,\n          -0.06196501713107242\n        ],\n        \"semantic_type\": \"\",\n        \"description\": \"\"\n      }\n    },\n    {\n      \"column\": 1,\n      \"properties\": {\n        \"dtype\": \"number\",\n        \"std\": 0.3181674662205294,\n        \"min\": -0.07277038537907281,\n        \"max\": 1.0,\n        \"num_unique_values\": 10,\n        \"samples\": [\n          0.02187292952317853,\n          1.0,\n          -0.002261496515312394\n        ],\n        \"semantic_type\": \"\",\n        \"description\": \"\"\n      }\n    },\n    {\n      \"column\": 2,\n      \"properties\": {\n        \"dtype\": \"number\",\n        \"std\": 0.32344731509849256,\n        \"min\": -0.052711728114926075,\n        \"max\": 1.0,\n        \"num_unique_values\": 10,\n        \"samples\": [\n          -0.03732313338647207,\n          -0.019519703157968717,\n          0.0180031984895468\n        ],\n        \"semantic_type\": \"\",\n        \"description\": \"\"\n      }\n    },\n    {\n      \"column\": 3,\n      \"properties\": {\n        \"dtype\": \"number\",\n        \"std\": 0.3146119692440433,\n        \"min\": -0.0340242476235293,\n        \"max\": 1.0,\n        \"num_unique_values\": 10,\n        \"samples\": [\n          0.008157902791244459,\n          0.023101756072615595,\n          0.013522784629134922\n        ],\n        \"semantic_type\": \"\",\n        \"description\": \"\"\n      }\n    },\n    {\n      \"column\": 4,\n      \"properties\": {\n        \"dtype\": \"number\",\n        \"std\": 0.32618233171285255,\n        \"min\": -0.08399844057012351,\n        \"max\": 1.0,\n        \"num_unique_values\": 10,\n        \"samples\": [\n          -0.01680506379031541,\n          -0.008574458327591314,\n          -0.03503395422722456\n        ],\n        \"semantic_type\": \"\",\n        \"description\": \"\"\n      }\n    },\n    {\n      \"column\": 5,\n      \"properties\": {\n        \"dtype\": \"number\",\n        \"std\": 0.32209071787344906,\n        \"min\": -0.06318589748713925,\n        \"max\": 1.0,\n        \"num_unique_values\": 10,\n        \"samples\": [\n          0.014437157182719686,\n          -0.002261496515312394,\n          1.0\n        ],\n        \"semantic_type\": \"\",\n        \"description\": \"\"\n      }\n    },\n    {\n      \"column\": 6,\n      \"properties\": {\n        \"dtype\": \"number\",\n        \"std\": 0.3168065813739159,\n        \"min\": -0.05066853577274287,\n        \"max\": 1.0,\n        \"num_unique_values\": 10,\n        \"samples\": [\n          0.005988802713030921,\n          0.014132310260642659,\n          0.015904710158796798\n        ],\n        \"semantic_type\": \"\",\n        \"description\": \"\"\n      }\n    },\n    {\n      \"column\": 7,\n      \"properties\": {\n        \"dtype\": \"number\",\n        \"std\": 0.3247298858290052,\n        \"min\": -0.07277038537907281,\n        \"max\": 1.0,\n        \"num_unique_values\": 10,\n        \"samples\": [\n          -0.023733878198263524,\n          -0.07277038537907281,\n          -0.06318589748713925\n        ],\n        \"semantic_type\": \"\",\n        \"description\": \"\"\n      }\n    },\n    {\n      \"column\": 8,\n      \"properties\": {\n        \"dtype\": \"number\",\n        \"std\": 0.3214413201288797,\n        \"min\": -0.07922656595006271,\n        \"max\": 1.0,\n        \"num_unique_values\": 10,\n        \"samples\": [\n          1.0,\n          0.02187292952317853,\n          0.014437157182719686\n        ],\n        \"semantic_type\": \"\",\n        \"description\": \"\"\n      }\n    },\n    {\n      \"column\": 9,\n      \"properties\": {\n        \"dtype\": \"number\",\n        \"std\": 0.3197258017259561,\n        \"min\": -0.08399844057012351,\n        \"max\": 1.0,\n        \"num_unique_values\": 10,\n        \"samples\": [\n          -0.0023591121812239907,\n          0.009399824330020408,\n          -0.022689379235264626\n        ],\n        \"semantic_type\": \"\",\n        \"description\": \"\"\n      }\n    }\n  ]\n}",
       "type": "dataframe",
       "variable_name": "df_corr"
      },
      "text/html": [
       "\n",
       "  <div id=\"df-8c819d05-1874-429e-85a7-6ba979d78e9f\" class=\"colab-df-container\">\n",
       "    <div>\n",
       "<style scoped>\n",
       "    .dataframe tbody tr th:only-of-type {\n",
       "        vertical-align: middle;\n",
       "    }\n",
       "\n",
       "    .dataframe tbody tr th {\n",
       "        vertical-align: top;\n",
       "    }\n",
       "\n",
       "    .dataframe thead th {\n",
       "        text-align: right;\n",
       "    }\n",
       "</style>\n",
       "<table border=\"1\" class=\"dataframe\">\n",
       "  <thead>\n",
       "    <tr style=\"text-align: right;\">\n",
       "      <th></th>\n",
       "      <th>0</th>\n",
       "      <th>1</th>\n",
       "      <th>2</th>\n",
       "      <th>3</th>\n",
       "      <th>4</th>\n",
       "      <th>5</th>\n",
       "      <th>6</th>\n",
       "      <th>7</th>\n",
       "      <th>8</th>\n",
       "      <th>9</th>\n",
       "    </tr>\n",
       "  </thead>\n",
       "  <tbody>\n",
       "    <tr>\n",
       "      <th>0</th>\n",
       "      <td>1.000000</td>\n",
       "      <td>0.015549</td>\n",
       "      <td>-0.016976</td>\n",
       "      <td>0.007970</td>\n",
       "      <td>-0.035479</td>\n",
       "      <td>-0.061965</td>\n",
       "      <td>0.013465</td>\n",
       "      <td>0.035662</td>\n",
       "      <td>-0.079227</td>\n",
       "      <td>0.003549</td>\n",
       "    </tr>\n",
       "    <tr>\n",
       "      <th>1</th>\n",
       "      <td>0.015549</td>\n",
       "      <td>1.000000</td>\n",
       "      <td>-0.019520</td>\n",
       "      <td>0.023102</td>\n",
       "      <td>-0.008574</td>\n",
       "      <td>-0.002261</td>\n",
       "      <td>0.014132</td>\n",
       "      <td>-0.072770</td>\n",
       "      <td>0.021873</td>\n",
       "      <td>0.009400</td>\n",
       "    </tr>\n",
       "    <tr>\n",
       "      <th>2</th>\n",
       "      <td>-0.016976</td>\n",
       "      <td>-0.019520</td>\n",
       "      <td>1.000000</td>\n",
       "      <td>-0.013162</td>\n",
       "      <td>-0.050608</td>\n",
       "      <td>0.018003</td>\n",
       "      <td>-0.008854</td>\n",
       "      <td>-0.052712</td>\n",
       "      <td>-0.037323</td>\n",
       "      <td>-0.003811</td>\n",
       "    </tr>\n",
       "    <tr>\n",
       "      <th>3</th>\n",
       "      <td>0.007970</td>\n",
       "      <td>0.023102</td>\n",
       "      <td>-0.013162</td>\n",
       "      <td>1.000000</td>\n",
       "      <td>0.040633</td>\n",
       "      <td>0.013523</td>\n",
       "      <td>-0.023538</td>\n",
       "      <td>-0.034024</td>\n",
       "      <td>0.008158</td>\n",
       "      <td>0.059391</td>\n",
       "    </tr>\n",
       "    <tr>\n",
       "      <th>4</th>\n",
       "      <td>-0.035479</td>\n",
       "      <td>-0.008574</td>\n",
       "      <td>-0.050608</td>\n",
       "      <td>0.040633</td>\n",
       "      <td>1.000000</td>\n",
       "      <td>-0.035034</td>\n",
       "      <td>-0.050669</td>\n",
       "      <td>0.010115</td>\n",
       "      <td>-0.016805</td>\n",
       "      <td>-0.083998</td>\n",
       "    </tr>\n",
       "    <tr>\n",
       "      <th>5</th>\n",
       "      <td>-0.061965</td>\n",
       "      <td>-0.002261</td>\n",
       "      <td>0.018003</td>\n",
       "      <td>0.013523</td>\n",
       "      <td>-0.035034</td>\n",
       "      <td>1.000000</td>\n",
       "      <td>0.015905</td>\n",
       "      <td>-0.063186</td>\n",
       "      <td>0.014437</td>\n",
       "      <td>-0.022689</td>\n",
       "    </tr>\n",
       "    <tr>\n",
       "      <th>6</th>\n",
       "      <td>0.013465</td>\n",
       "      <td>0.014132</td>\n",
       "      <td>-0.008854</td>\n",
       "      <td>-0.023538</td>\n",
       "      <td>-0.050669</td>\n",
       "      <td>0.015905</td>\n",
       "      <td>1.000000</td>\n",
       "      <td>0.033703</td>\n",
       "      <td>0.005989</td>\n",
       "      <td>0.008748</td>\n",
       "    </tr>\n",
       "    <tr>\n",
       "      <th>7</th>\n",
       "      <td>0.035662</td>\n",
       "      <td>-0.072770</td>\n",
       "      <td>-0.052712</td>\n",
       "      <td>-0.034024</td>\n",
       "      <td>0.010115</td>\n",
       "      <td>-0.063186</td>\n",
       "      <td>0.033703</td>\n",
       "      <td>1.000000</td>\n",
       "      <td>-0.023734</td>\n",
       "      <td>-0.012091</td>\n",
       "    </tr>\n",
       "    <tr>\n",
       "      <th>8</th>\n",
       "      <td>-0.079227</td>\n",
       "      <td>0.021873</td>\n",
       "      <td>-0.037323</td>\n",
       "      <td>0.008158</td>\n",
       "      <td>-0.016805</td>\n",
       "      <td>0.014437</td>\n",
       "      <td>0.005989</td>\n",
       "      <td>-0.023734</td>\n",
       "      <td>1.000000</td>\n",
       "      <td>-0.002359</td>\n",
       "    </tr>\n",
       "    <tr>\n",
       "      <th>9</th>\n",
       "      <td>0.003549</td>\n",
       "      <td>0.009400</td>\n",
       "      <td>-0.003811</td>\n",
       "      <td>0.059391</td>\n",
       "      <td>-0.083998</td>\n",
       "      <td>-0.022689</td>\n",
       "      <td>0.008748</td>\n",
       "      <td>-0.012091</td>\n",
       "      <td>-0.002359</td>\n",
       "      <td>1.000000</td>\n",
       "    </tr>\n",
       "  </tbody>\n",
       "</table>\n",
       "</div>\n",
       "    <div class=\"colab-df-buttons\">\n",
       "\n",
       "  <div class=\"colab-df-container\">\n",
       "    <button class=\"colab-df-convert\" onclick=\"convertToInteractive('df-8c819d05-1874-429e-85a7-6ba979d78e9f')\"\n",
       "            title=\"Convert this dataframe to an interactive table.\"\n",
       "            style=\"display:none;\">\n",
       "\n",
       "  <svg xmlns=\"http://www.w3.org/2000/svg\" height=\"24px\" viewBox=\"0 -960 960 960\">\n",
       "    <path d=\"M120-120v-720h720v720H120Zm60-500h600v-160H180v160Zm220 220h160v-160H400v160Zm0 220h160v-160H400v160ZM180-400h160v-160H180v160Zm440 0h160v-160H620v160ZM180-180h160v-160H180v160Zm440 0h160v-160H620v160Z\"/>\n",
       "  </svg>\n",
       "    </button>\n",
       "\n",
       "  <style>\n",
       "    .colab-df-container {\n",
       "      display:flex;\n",
       "      gap: 12px;\n",
       "    }\n",
       "\n",
       "    .colab-df-convert {\n",
       "      background-color: #E8F0FE;\n",
       "      border: none;\n",
       "      border-radius: 50%;\n",
       "      cursor: pointer;\n",
       "      display: none;\n",
       "      fill: #1967D2;\n",
       "      height: 32px;\n",
       "      padding: 0 0 0 0;\n",
       "      width: 32px;\n",
       "    }\n",
       "\n",
       "    .colab-df-convert:hover {\n",
       "      background-color: #E2EBFA;\n",
       "      box-shadow: 0px 1px 2px rgba(60, 64, 67, 0.3), 0px 1px 3px 1px rgba(60, 64, 67, 0.15);\n",
       "      fill: #174EA6;\n",
       "    }\n",
       "\n",
       "    .colab-df-buttons div {\n",
       "      margin-bottom: 4px;\n",
       "    }\n",
       "\n",
       "    [theme=dark] .colab-df-convert {\n",
       "      background-color: #3B4455;\n",
       "      fill: #D2E3FC;\n",
       "    }\n",
       "\n",
       "    [theme=dark] .colab-df-convert:hover {\n",
       "      background-color: #434B5C;\n",
       "      box-shadow: 0px 1px 3px 1px rgba(0, 0, 0, 0.15);\n",
       "      filter: drop-shadow(0px 1px 2px rgba(0, 0, 0, 0.3));\n",
       "      fill: #FFFFFF;\n",
       "    }\n",
       "  </style>\n",
       "\n",
       "    <script>\n",
       "      const buttonEl =\n",
       "        document.querySelector('#df-8c819d05-1874-429e-85a7-6ba979d78e9f button.colab-df-convert');\n",
       "      buttonEl.style.display =\n",
       "        google.colab.kernel.accessAllowed ? 'block' : 'none';\n",
       "\n",
       "      async function convertToInteractive(key) {\n",
       "        const element = document.querySelector('#df-8c819d05-1874-429e-85a7-6ba979d78e9f');\n",
       "        const dataTable =\n",
       "          await google.colab.kernel.invokeFunction('convertToInteractive',\n",
       "                                                    [key], {});\n",
       "        if (!dataTable) return;\n",
       "\n",
       "        const docLinkHtml = 'Like what you see? Visit the ' +\n",
       "          '<a target=\"_blank\" href=https://colab.research.google.com/notebooks/data_table.ipynb>data table notebook</a>'\n",
       "          + ' to learn more about interactive tables.';\n",
       "        element.innerHTML = '';\n",
       "        dataTable['output_type'] = 'display_data';\n",
       "        await google.colab.output.renderOutput(dataTable, element);\n",
       "        const docLink = document.createElement('div');\n",
       "        docLink.innerHTML = docLinkHtml;\n",
       "        element.appendChild(docLink);\n",
       "      }\n",
       "    </script>\n",
       "  </div>\n",
       "\n",
       "\n",
       "<div id=\"df-19283752-b098-46e3-a323-caba129b7a8e\">\n",
       "  <button class=\"colab-df-quickchart\" onclick=\"quickchart('df-19283752-b098-46e3-a323-caba129b7a8e')\"\n",
       "            title=\"Suggest charts\"\n",
       "            style=\"display:none;\">\n",
       "\n",
       "<svg xmlns=\"http://www.w3.org/2000/svg\" height=\"24px\"viewBox=\"0 0 24 24\"\n",
       "     width=\"24px\">\n",
       "    <g>\n",
       "        <path d=\"M19 3H5c-1.1 0-2 .9-2 2v14c0 1.1.9 2 2 2h14c1.1 0 2-.9 2-2V5c0-1.1-.9-2-2-2zM9 17H7v-7h2v7zm4 0h-2V7h2v10zm4 0h-2v-4h2v4z\"/>\n",
       "    </g>\n",
       "</svg>\n",
       "  </button>\n",
       "\n",
       "<style>\n",
       "  .colab-df-quickchart {\n",
       "      --bg-color: #E8F0FE;\n",
       "      --fill-color: #1967D2;\n",
       "      --hover-bg-color: #E2EBFA;\n",
       "      --hover-fill-color: #174EA6;\n",
       "      --disabled-fill-color: #AAA;\n",
       "      --disabled-bg-color: #DDD;\n",
       "  }\n",
       "\n",
       "  [theme=dark] .colab-df-quickchart {\n",
       "      --bg-color: #3B4455;\n",
       "      --fill-color: #D2E3FC;\n",
       "      --hover-bg-color: #434B5C;\n",
       "      --hover-fill-color: #FFFFFF;\n",
       "      --disabled-bg-color: #3B4455;\n",
       "      --disabled-fill-color: #666;\n",
       "  }\n",
       "\n",
       "  .colab-df-quickchart {\n",
       "    background-color: var(--bg-color);\n",
       "    border: none;\n",
       "    border-radius: 50%;\n",
       "    cursor: pointer;\n",
       "    display: none;\n",
       "    fill: var(--fill-color);\n",
       "    height: 32px;\n",
       "    padding: 0;\n",
       "    width: 32px;\n",
       "  }\n",
       "\n",
       "  .colab-df-quickchart:hover {\n",
       "    background-color: var(--hover-bg-color);\n",
       "    box-shadow: 0 1px 2px rgba(60, 64, 67, 0.3), 0 1px 3px 1px rgba(60, 64, 67, 0.15);\n",
       "    fill: var(--button-hover-fill-color);\n",
       "  }\n",
       "\n",
       "  .colab-df-quickchart-complete:disabled,\n",
       "  .colab-df-quickchart-complete:disabled:hover {\n",
       "    background-color: var(--disabled-bg-color);\n",
       "    fill: var(--disabled-fill-color);\n",
       "    box-shadow: none;\n",
       "  }\n",
       "\n",
       "  .colab-df-spinner {\n",
       "    border: 2px solid var(--fill-color);\n",
       "    border-color: transparent;\n",
       "    border-bottom-color: var(--fill-color);\n",
       "    animation:\n",
       "      spin 1s steps(1) infinite;\n",
       "  }\n",
       "\n",
       "  @keyframes spin {\n",
       "    0% {\n",
       "      border-color: transparent;\n",
       "      border-bottom-color: var(--fill-color);\n",
       "      border-left-color: var(--fill-color);\n",
       "    }\n",
       "    20% {\n",
       "      border-color: transparent;\n",
       "      border-left-color: var(--fill-color);\n",
       "      border-top-color: var(--fill-color);\n",
       "    }\n",
       "    30% {\n",
       "      border-color: transparent;\n",
       "      border-left-color: var(--fill-color);\n",
       "      border-top-color: var(--fill-color);\n",
       "      border-right-color: var(--fill-color);\n",
       "    }\n",
       "    40% {\n",
       "      border-color: transparent;\n",
       "      border-right-color: var(--fill-color);\n",
       "      border-top-color: var(--fill-color);\n",
       "    }\n",
       "    60% {\n",
       "      border-color: transparent;\n",
       "      border-right-color: var(--fill-color);\n",
       "    }\n",
       "    80% {\n",
       "      border-color: transparent;\n",
       "      border-right-color: var(--fill-color);\n",
       "      border-bottom-color: var(--fill-color);\n",
       "    }\n",
       "    90% {\n",
       "      border-color: transparent;\n",
       "      border-bottom-color: var(--fill-color);\n",
       "    }\n",
       "  }\n",
       "</style>\n",
       "\n",
       "  <script>\n",
       "    async function quickchart(key) {\n",
       "      const quickchartButtonEl =\n",
       "        document.querySelector('#' + key + ' button');\n",
       "      quickchartButtonEl.disabled = true;  // To prevent multiple clicks.\n",
       "      quickchartButtonEl.classList.add('colab-df-spinner');\n",
       "      try {\n",
       "        const charts = await google.colab.kernel.invokeFunction(\n",
       "            'suggestCharts', [key], {});\n",
       "      } catch (error) {\n",
       "        console.error('Error during call to suggestCharts:', error);\n",
       "      }\n",
       "      quickchartButtonEl.classList.remove('colab-df-spinner');\n",
       "      quickchartButtonEl.classList.add('colab-df-quickchart-complete');\n",
       "    }\n",
       "    (() => {\n",
       "      let quickchartButtonEl =\n",
       "        document.querySelector('#df-19283752-b098-46e3-a323-caba129b7a8e button');\n",
       "      quickchartButtonEl.style.display =\n",
       "        google.colab.kernel.accessAllowed ? 'block' : 'none';\n",
       "    })();\n",
       "  </script>\n",
       "</div>\n",
       "    </div>\n",
       "  </div>\n"
      ],
      "text/plain": [
       "          0         1         2         3         4         5         6  \\\n",
       "0  1.000000  0.015549 -0.016976  0.007970 -0.035479 -0.061965  0.013465   \n",
       "1  0.015549  1.000000 -0.019520  0.023102 -0.008574 -0.002261  0.014132   \n",
       "2 -0.016976 -0.019520  1.000000 -0.013162 -0.050608  0.018003 -0.008854   \n",
       "3  0.007970  0.023102 -0.013162  1.000000  0.040633  0.013523 -0.023538   \n",
       "4 -0.035479 -0.008574 -0.050608  0.040633  1.000000 -0.035034 -0.050669   \n",
       "5 -0.061965 -0.002261  0.018003  0.013523 -0.035034  1.000000  0.015905   \n",
       "6  0.013465  0.014132 -0.008854 -0.023538 -0.050669  0.015905  1.000000   \n",
       "7  0.035662 -0.072770 -0.052712 -0.034024  0.010115 -0.063186  0.033703   \n",
       "8 -0.079227  0.021873 -0.037323  0.008158 -0.016805  0.014437  0.005989   \n",
       "9  0.003549  0.009400 -0.003811  0.059391 -0.083998 -0.022689  0.008748   \n",
       "\n",
       "          7         8         9  \n",
       "0  0.035662 -0.079227  0.003549  \n",
       "1 -0.072770  0.021873  0.009400  \n",
       "2 -0.052712 -0.037323 -0.003811  \n",
       "3 -0.034024  0.008158  0.059391  \n",
       "4  0.010115 -0.016805 -0.083998  \n",
       "5 -0.063186  0.014437 -0.022689  \n",
       "6  0.033703  0.005989  0.008748  \n",
       "7  1.000000 -0.023734 -0.012091  \n",
       "8 -0.023734  1.000000 -0.002359  \n",
       "9 -0.012091 -0.002359  1.000000  "
      ]
     },
     "execution_count": 6,
     "metadata": {},
     "output_type": "execute_result"
    }
   ],
   "source": [
    "import pandas as pd\n",
    "df = pd.DataFrame(X)\n",
    "df_corr = df.corr()\n",
    "df_corr"
   ]
  },
  {
   "cell_type": "markdown",
   "metadata": {
    "id": "G90b8buRRDku"
   },
   "source": [
    "Улучшим визуализацию"
   ]
  },
  {
   "cell_type": "code",
   "execution_count": 7,
   "metadata": {
    "colab": {
     "base_uri": "https://localhost:8080/",
     "height": 452
    },
    "id": "gXa6TRb2k3jY",
    "outputId": "2673ef3e-2118-4e1f-9368-2350fcd34fb2"
   },
   "outputs": [
    {
     "data": {
      "text/plain": [
       "<Axes: >"
      ]
     },
     "execution_count": 7,
     "metadata": {},
     "output_type": "execute_result"
    },
    {
     "data": {
      "image/png": "[encoded data removed]",
      "text/plain": [
       "<Figure size 640x480 with 2 Axes>"
      ]
     },
     "metadata": {},
     "output_type": "display_data"
    }
   ],
   "source": [
    "import seaborn as sns\n",
    "sns.heatmap (df_corr, annot=df_corr, fmt='.2f')"
   ]
  },
  {
   "cell_type": "markdown",
   "metadata": {
    "id": "2CH3F_PKndxR"
   },
   "source": [
    "Признаки независимы. Теперь оценим зависимость между признаками и целевой переменной - у."
   ]
  },
  {
   "cell_type": "code",
   "execution_count": 11,
   "metadata": {
    "colab": {
     "base_uri": "https://localhost:8080/",
     "height": 397
    },
    "id": "Kjr7XlR6h34d",
    "outputId": "c0e7c944-05fd-4222-8f45-ecd20e78807d"
   },
   "outputs": [
    {
     "data": {
      "text/html": [
       "<div>\n",
       "<style scoped>\n",
       "    .dataframe tbody tr th:only-of-type {\n",
       "        vertical-align: middle;\n",
       "    }\n",
       "\n",
       "    .dataframe tbody tr th {\n",
       "        vertical-align: top;\n",
       "    }\n",
       "\n",
       "    .dataframe thead th {\n",
       "        text-align: right;\n",
       "    }\n",
       "</style>\n",
       "<table border=\"1\" class=\"dataframe\">\n",
       "  <thead>\n",
       "    <tr style=\"text-align: right;\">\n",
       "      <th></th>\n",
       "      <th>0</th>\n",
       "    </tr>\n",
       "  </thead>\n",
       "  <tbody>\n",
       "    <tr>\n",
       "      <th>0</th>\n",
       "      <td>-0.097866</td>\n",
       "    </tr>\n",
       "    <tr>\n",
       "      <th>1</th>\n",
       "      <td>0.017109</td>\n",
       "    </tr>\n",
       "    <tr>\n",
       "      <th>2</th>\n",
       "      <td>0.081422</td>\n",
       "    </tr>\n",
       "    <tr>\n",
       "      <th>3</th>\n",
       "      <td>0.011135</td>\n",
       "    </tr>\n",
       "    <tr>\n",
       "      <th>4</th>\n",
       "      <td>-0.034099</td>\n",
       "    </tr>\n",
       "    <tr>\n",
       "      <th>5</th>\n",
       "      <td>0.390716</td>\n",
       "    </tr>\n",
       "    <tr>\n",
       "      <th>6</th>\n",
       "      <td>0.010507</td>\n",
       "    </tr>\n",
       "    <tr>\n",
       "      <th>7</th>\n",
       "      <td>-0.051262</td>\n",
       "    </tr>\n",
       "    <tr>\n",
       "      <th>8</th>\n",
       "      <td>0.919600</td>\n",
       "    </tr>\n",
       "    <tr>\n",
       "      <th>9</th>\n",
       "      <td>-0.011101</td>\n",
       "    </tr>\n",
       "  </tbody>\n",
       "</table>\n",
       "</div><br><label><b>dtype:</b> float64</label>"
      ],
      "text/plain": [
       "0   -0.097866\n",
       "1    0.017109\n",
       "2    0.081422\n",
       "3    0.011135\n",
       "4   -0.034099\n",
       "5    0.390716\n",
       "6    0.010507\n",
       "7   -0.051262\n",
       "8    0.919600\n",
       "9   -0.011101\n",
       "dtype: float64"
      ]
     },
     "execution_count": 11,
     "metadata": {},
     "output_type": "execute_result"
    }
   ],
   "source": [
    "dy = pd.Series(y)\n",
    "Xy_corr = df.corrwith(dy)\n",
    "Xy_corr"
   ]
  },
  {
   "cell_type": "markdown",
   "metadata": {
    "id": "zVZzOzkJnz6r"
   },
   "source": [
    "Коэффициенты для некоторых признаков явно больше других. Среди них есть 3 информативных признака."
   ]
  },
  {
   "cell_type": "markdown",
   "metadata": {
    "id": "l1gMJ-0OoHfl"
   },
   "source": [
    "Можно автоматизировать вывод информативных признаков без анализа конкретных знавений. Достаточно проверить дополнительно с помощью метода get_support() - он возвращает True для признаков, отобранных методом SelectKBest."
   ]
  },
  {
   "cell_type": "code",
   "execution_count": 9,
   "metadata": {
    "colab": {
     "base_uri": "https://localhost:8080/"
    },
    "id": "6YadecHwlNAs",
    "outputId": "63930c42-5588-4bf6-e20b-81b631164d50"
   },
   "outputs": [
    {
     "name": "stdout",
     "output_type": "stream",
     "text": [
      "[ True False False False False  True False False  True False]\n"
     ]
    }
   ],
   "source": [
    "print(fs.get_support())"
   ]
  },
  {
   "cell_type": "markdown",
   "metadata": {
    "id": "OuywHf8wDpJR"
   },
   "source": [
    "Еще два атрибута показывают значения статистики ANOVA и уровень значимости для всех признаков - можно сравнить и информативные между собой"
   ]
  },
  {
   "cell_type": "code",
   "execution_count": 12,
   "metadata": {
    "colab": {
     "base_uri": "https://localhost:8080/"
    },
    "id": "4xJ8dMlaB4K1",
    "outputId": "9d27be5a-57ed-4d81-c291-f5290decadb4"
   },
   "outputs": [
    {
     "name": "stdout",
     "output_type": "stream",
     "text": [
      "[9.65109265e+00 2.92223783e-01 6.66037172e+00 1.23753836e-01\n",
      " 1.16178401e+00 1.79801567e+02 1.10186440e-01 2.62941713e+00\n",
      " 5.46841849e+03 1.23004301e-01]\n"
     ]
    }
   ],
   "source": [
    "print(fs.scores_)"
   ]
  },
  {
   "cell_type": "code",
   "execution_count": 13,
   "metadata": {
    "colab": {
     "base_uri": "https://localhost:8080/"
    },
    "id": "JuZTbKOEDczS",
    "outputId": "b264ff5f-61c9-495e-ac64-6b138ade7b9e"
   },
   "outputs": [
    {
     "name": "stdout",
     "output_type": "stream",
     "text": [
      "[1.94585922e-03 5.88919610e-01 9.99985580e-03 7.25072545e-01\n",
      " 2.81356314e-01 8.11288906e-38 7.40001675e-01 1.05216077e-01\n",
      " 0.00000000e+00 7.25872668e-01]\n"
     ]
    }
   ],
   "source": [
    "print(fs.pvalues_)"
   ]
  },
  {
   "cell_type": "markdown",
   "metadata": {
    "id": "uthUzH8qo_Ib"
   },
   "source": [
    "## Задача классификации"
   ]
  },
  {
   "cell_type": "markdown",
   "metadata": {
    "id": "teMyESCt1QdH"
   },
   "source": [
    "Числовые значения признаков, номинальные значения целевой переменной (метки классов)"
   ]
  },
  {
   "cell_type": "markdown",
   "metadata": {
    "id": "-Y2vr0YM1cip"
   },
   "source": [
    "Аналогичный отбор на основе дисперсионного анализа на учебном наборе данных"
   ]
  },
  {
   "cell_type": "code",
   "execution_count": 15,
   "metadata": {
    "colab": {
     "base_uri": "https://localhost:8080/"
    },
    "id": "3Uu-QgMe1nG7",
    "outputId": "6d4dbad7-838d-4d39-da9a-6bc941d2101f"
   },
   "outputs": [
    {
     "name": "stdout",
     "output_type": "stream",
     "text": [
      "(100, 2)\n",
      "[False False False  True False  True False False False False False False\n",
      " False False False False False False False False]\n"
     ]
    }
   ],
   "source": [
    "from sklearn.datasets import make_classification\n",
    "from sklearn.feature_selection import f_classif\n",
    "\n",
    "X, y = make_classification(n_samples=100, n_features=20, n_informative=2, n_classes=2)\n",
    "\n",
    "fs = SelectKBest(score_func=f_classif, k=2)\n",
    "X_selected = fs.fit_transform(X, y)\n",
    "\n",
    "print(X_selected.shape)\n",
    "print(fs.get_support())"
   ]
  }
 ],
 "metadata": {
  "colab": {
   "provenance": []
  },
  "kernelspec": {
   "display_name": "Python 3 (ipykernel)",
   "language": "python",
   "name": "python3"
  },
  "language_info": {
   "codemirror_mode": {
    "name": "ipython",
    "version": 3
   },
   "file_extension": ".py",
   "mimetype": "text/x-python",
   "name": "python",
   "nbconvert_exporter": "python",
   "pygments_lexer": "ipython3",
   "version": "3.12.7"
  }
 },
 "nbformat": 4,
 "nbformat_minor": 4
}
