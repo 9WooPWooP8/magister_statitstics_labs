{
  "nbformat": 4,
  "nbformat_minor": 0,
  "metadata": {
    "kernelspec": {
      "display_name": "Python 3",
      "language": "python",
      "name": "python3"
    },
    "language_info": {
      "codemirror_mode": {
        "name": "ipython",
        "version": 3
      },
      "file_extension": ".py",
      "mimetype": "text/x-python",
      "name": "python",
      "nbconvert_exporter": "python",
      "pygments_lexer": "ipython3",
      "version": "3.6.0"
    },
    "colab": {
      "provenance": []
    }
  },
  "cells": [
    {
      "cell_type": "markdown",
      "metadata": {
        "id": "ePJhBAHh7ZNl"
      },
      "source": [
        "# Решение задачи регрессии: линейная модель"
      ]
    },
    {
      "cell_type": "markdown",
      "metadata": {
        "id": "39qluzB3AWA8"
      },
      "source": [
        "## Линейная модель без штрафов\n",
        "\n",
        "Для получения параметров обученной модели используют атрибуты:\n",
        "\n",
        "**коэффициенты** - coef_\n",
        "\n",
        "**свободный член** - intercept_\n",
        "\n",
        "Если intercept_ = 0, то график проходит через начало координат.\n",
        "\n",
        "Если при обучении параметр fit_intersept=False, то автоматически устанавливается 0 и решение центрируется относительно начала координат."
      ]
    },
    {
      "cell_type": "markdown",
      "source": [
        "### Примеры"
      ],
      "metadata": {
        "id": "tvUfKhKbB4zR"
      }
    },
    {
      "cell_type": "markdown",
      "source": [
        "**Пример 1**\n",
        "\n",
        "Заданы 3 точки в пространстве.\n",
        "\n",
        "Построить линейный тренд."
      ],
      "metadata": {
        "id": "ZBZyxn9ZRlDY"
      }
    },
    {
      "cell_type": "code",
      "metadata": {
        "colab": {
          "base_uri": "https://localhost:8080/"
        },
        "id": "cwP1S7b_-37A",
        "outputId": "7910ef0f-ebec-4916-a19c-e208286164a7"
      },
      "source": [
        "from sklearn import linear_model\n",
        "reg = linear_model.LinearRegression()\n",
        "reg.fit ([[0, 0], [1, 1], [2, 2]], [0, 1, 2])\n",
        "reg.coef_"
      ],
      "execution_count": 1,
      "outputs": [
        {
          "output_type": "execute_result",
          "data": {
            "text/plain": [
              "array([0.5, 0.5])"
            ]
          },
          "metadata": {},
          "execution_count": 1
        }
      ]
    },
    {
      "cell_type": "code",
      "source": [
        "reg.intercept_"
      ],
      "metadata": {
        "colab": {
          "base_uri": "https://localhost:8080/"
        },
        "id": "VmnbfkbOaJXw",
        "outputId": "9a8c8200-2e76-4bd1-9188-0aa680b1acd3"
      },
      "execution_count": null,
      "outputs": [
        {
          "output_type": "execute_result",
          "data": {
            "text/plain": [
              "1.1102230246251565e-16"
            ]
          },
          "metadata": {},
          "execution_count": 2
        }
      ]
    },
    {
      "cell_type": "markdown",
      "source": [
        "По заданным точкам построена модель:\n",
        "\n",
        "y = 0.5x_0 + 0.5x_1"
      ],
      "metadata": {
        "id": "1P-lP0EFD6e0"
      }
    },
    {
      "cell_type": "markdown",
      "source": [
        "**Пример 2**\n",
        "\n",
        "Заданы пары признаков. Целевую переменную вычислим по формуле и построим линейную модель."
      ],
      "metadata": {
        "id": "vK1w_YYlSezu"
      }
    },
    {
      "cell_type": "code",
      "metadata": {
        "colab": {
          "base_uri": "https://localhost:8080/"
        },
        "id": "zBNm21JVInfu",
        "outputId": "d21ddd52-2ae9-4a81-89e4-308f4830af96"
      },
      "source": [
        "import numpy as np\n",
        "\n",
        "X = np.array([[1, 1], [1, 2], [2, 2], [2, 3]])\n",
        "\n",
        "# зададим зависимость:\n",
        "# y = 1 * x_0 + 2 * x_1 + 3\n",
        "# dot - вычисляет скалярное произведение массивов\n",
        "y = np.dot(X, np.array([1, 2])) + 3\n",
        "# добавим небольшую случайную погрешность\n",
        "y = y + np.random.normal()*0.5\n",
        "print(y)\n",
        "reg = linear_model.LinearRegression().fit(X, y)\n",
        "# метод score возвращает коэффициент детерминации R^2\n",
        "print(\"R^2=\", reg.score(X, y))\n",
        "print(reg.coef_)\n",
        "print(reg.intercept_)\n",
        "print(reg.predict(np.array([[3, 5]])))"
      ],
      "execution_count": 8,
      "outputs": [
        {
          "output_type": "stream",
          "name": "stdout",
          "text": [
            "[ 5.20382622  7.20382622  8.20382622 10.20382622]\n",
            "R^2= 1.0\n",
            "[1. 2.]\n",
            "2.203826224429049\n",
            "[15.20382622]\n"
          ]
        }
      ]
    },
    {
      "cell_type": "markdown",
      "metadata": {
        "id": "MwpvuPNGAaCO"
      },
      "source": [
        "## Линейная регрессия со штрафами\n",
        "### Ridge - модель"
      ]
    },
    {
      "cell_type": "markdown",
      "source": [
        "В примерах изменяется коэффициент штрафа"
      ],
      "metadata": {
        "id": "4zeon94zVCh5"
      }
    },
    {
      "cell_type": "code",
      "metadata": {
        "colab": {
          "base_uri": "https://localhost:8080/"
        },
        "id": "auA9C528AeCZ",
        "outputId": "6a44f98c-bfe9-426a-91f2-3c788fd69416"
      },
      "source": [
        "reg = linear_model.Ridge(alpha=0.5)\n",
        "reg.fit([[0, 0], [0, 0], [1, 1]], [0, .1, 1])\n",
        "reg.coef_"
      ],
      "execution_count": 9,
      "outputs": [
        {
          "output_type": "execute_result",
          "data": {
            "text/plain": [
              "array([0.34545455, 0.34545455])"
            ]
          },
          "metadata": {},
          "execution_count": 9
        }
      ]
    },
    {
      "cell_type": "code",
      "source": [
        "reg = linear_model.Ridge(alpha=0.1)\n",
        "reg.fit([[0, 0], [0, 0], [1, 1]], [0, .1, 1])\n",
        "reg.coef_"
      ],
      "metadata": {
        "colab": {
          "base_uri": "https://localhost:8080/"
        },
        "id": "Kyxsc28GHxD2",
        "outputId": "80709ebd-3fdd-4a99-d882-2e2836a6ef93"
      },
      "execution_count": 10,
      "outputs": [
        {
          "output_type": "execute_result",
          "data": {
            "text/plain": [
              "array([0.44186047, 0.44186047])"
            ]
          },
          "metadata": {},
          "execution_count": 10
        }
      ]
    },
    {
      "cell_type": "markdown",
      "metadata": {
        "id": "miGmueE4A0ZM"
      },
      "source": [
        "### Lasso - модель"
      ]
    },
    {
      "cell_type": "code",
      "metadata": {
        "colab": {
          "base_uri": "https://localhost:8080/"
        },
        "id": "zhpo-ByOA6P0",
        "outputId": "2f2037eb-66eb-4064-f224-42aff91de3fc"
      },
      "source": [
        "reg = linear_model.Lasso(alpha=0.1)\n",
        "reg.fit([[0, 0], [1, 1]], [0, 1])\n",
        "reg.predict([[1, 1]])"
      ],
      "execution_count": 11,
      "outputs": [
        {
          "output_type": "execute_result",
          "data": {
            "text/plain": [
              "array([0.8])"
            ]
          },
          "metadata": {},
          "execution_count": 11
        }
      ]
    },
    {
      "cell_type": "code",
      "source": [
        "reg = linear_model.Lasso(alpha=0.5)\n",
        "reg.fit([[0, 0], [1, 1]], [0, 1])\n",
        "reg.predict([[1, 1]])"
      ],
      "metadata": {
        "colab": {
          "base_uri": "https://localhost:8080/"
        },
        "id": "ZCUwy1nlG86o",
        "outputId": "614d86d3-7cab-4d9f-ead6-5e6bc0882baa"
      },
      "execution_count": 12,
      "outputs": [
        {
          "output_type": "execute_result",
          "data": {
            "text/plain": [
              "array([0.5])"
            ]
          },
          "metadata": {},
          "execution_count": 12
        }
      ]
    },
    {
      "cell_type": "markdown",
      "source": [
        "**Сравните результаты при разных значениях параметра alpha**"
      ],
      "metadata": {
        "id": "VTPdkgP8H4yB"
      }
    },
    {
      "cell_type": "markdown",
      "metadata": {
        "id": "Qpqf7IRqCNXd"
      },
      "source": [
        "### Elastic Net - модель"
      ]
    },
    {
      "cell_type": "markdown",
      "source": [
        "Используется сгенерированный набор данных"
      ],
      "metadata": {
        "id": "e0VecrsOVgqB"
      }
    },
    {
      "cell_type": "code",
      "metadata": {
        "colab": {
          "base_uri": "https://localhost:8080/"
        },
        "id": "Maw0Htx0CS1y",
        "outputId": "671dfe8d-44b6-415c-f8cd-f56538b05748"
      },
      "source": [
        "from sklearn.linear_model import ElasticNet\n",
        "from sklearn.datasets import make_regression\n",
        "\n",
        "X, y = make_regression(n_features=2, random_state=0)\n",
        "print(X.shape)\n",
        "regr = ElasticNet(random_state=0)\n",
        "regr.fit(X, y)\n",
        "print(regr.coef_)\n",
        "print(regr.score(X, y))\n",
        "print(regr.predict([[0, 0]]))"
      ],
      "execution_count": 13,
      "outputs": [
        {
          "output_type": "stream",
          "name": "stdout",
          "text": [
            "(100, 2)\n",
            "[18.83816048 64.55968825]\n",
            "0.8904453086976037\n",
            "[1.45126076]\n"
          ]
        }
      ]
    },
    {
      "cell_type": "markdown",
      "metadata": {
        "id": "Iu5fyNVe7UoS"
      },
      "source": [
        "## Прогноз стоимости домов"
      ]
    },
    {
      "cell_type": "markdown",
      "source": [
        "### Описание набора данных\n",
        "Number of Instances: 506\n",
        "\n",
        "Number of Attributes: 13 continuous attributes (including \"class\"\n",
        "                         attribute \"MEDV\"), 1 binary-valued attribute.\n",
        " Attribute Information:\n",
        "  1. CRIM      per capita crime rate by town\n",
        "    2. ZN        proportion of residential land zoned for lots over           25,000 sq.ft.\n",
        "    3. INDUS     proportion of non-retail business acres per town\n",
        "    4. CHAS      Charles River dummy variable (= 1 if tract bounds             river; 0 otherwise)\n",
        "    5. NOX       nitric oxides concentration (parts per 10 million)\n",
        "    6. RM        average number of rooms per dwelling\n",
        "    7. AGE       proportion of owner-occupied units built prior to 1940\n",
        "    8. DIS       weighted distances to five Boston employment centres\n",
        "    9. RAD       index of accessibility to radial highways\n",
        "    10. TAX      full-value property-tax rate per $10,000\n",
        "    11. PTRATIO  pupil-teacher ratio by town\n",
        "    12. B        1000(Bk - 0.63)^2 where Bk is the proportion of blacks       by town\n",
        "    13. LSTAT    % lower status of the population\n",
        "    14. MEDV     Median value of owner-occupied homes in $1000's\n",
        "\n",
        "\n",
        "    1. CRIM уровень преступности на душу населения по городу\n",
        "     2. ZN Доля земель жилой застройки с участками свыше 25 000 кв. футов\n",
        "     3. INDUS Доля (по площади, акров) неторгового бизнеса на город\n",
        "     4. CHAS Бинарная переменная (= 1, если границы участка река Charles River; 0 иначе)\n",
        "     5. NOX Концентрация оксидов азота NOX (частиц на 10 млн)\n",
        "     6. RM среднее количество комнат в доме\n",
        "     7. AGE Доля жилищ, занимаемых владельцами, построенных до 1940 г.\n",
        "     8. DIS Взвешенные расстояния до пяти центров занятости Бостона.\n",
        "     9. RAD Индекс доступности радиальных магистралей.\n",
        "     10. TAX Полная ставка налога на имущество за 10 000 долларов США.\n",
        "     11. PTRATIO Соотношение учеников и учителей по городу\n",
        "     12. B 1000(Bk - 0,63)^2, где Bk — доля черных по городу\n",
        "     13. LSTAT % населения, имеющего низкий статус\n",
        "     14. MEDV Средняя стоимость домов, занимаемых владельцами, в 1000 долларов.\n",
        "\n",
        "\n"
      ],
      "metadata": {
        "id": "3flPjR6Ega7x"
      }
    },
    {
      "cell_type": "code",
      "source": [
        "import pandas as pd\n",
        "import numpy as np\n",
        "\n",
        "data_url = \"http://lib.stat.cmu.edu/datasets/boston\"\n",
        "raw_df = pd.read_csv(data_url, sep=\"\\s+\", skiprows=22, header=None)\n",
        "data = np.hstack([raw_df.values[::2, :], raw_df.values[1::2, :2]])\n",
        "target = raw_df.values[1::2, 2]"
      ],
      "metadata": {
        "id": "_OQzUlDJbeS7"
      },
      "execution_count": 14,
      "outputs": []
    },
    {
      "cell_type": "markdown",
      "metadata": {
        "id": "FoP6EsT_7Uod"
      },
      "source": [
        " data (данные о домах), target (цены), feature_names (имена признаков)."
      ]
    },
    {
      "cell_type": "code",
      "metadata": {
        "id": "FLaTPV957Uof"
      },
      "source": [
        "feature_names =['CRIM', 'ZN', 'INDUS', 'CHAS', 'NOX', 'RM', 'AGE', 'DIS', 'RAD',\n",
        "       'TAX', 'PTRATIO', 'B', 'LSTAT']"
      ],
      "execution_count": 15,
      "outputs": []
    },
    {
      "cell_type": "markdown",
      "metadata": {
        "id": "EfeHmm4J7Uof"
      },
      "source": [
        "Можно представить данные в виде таблицы:"
      ]
    },
    {
      "cell_type": "code",
      "metadata": {
        "collapsed": true,
        "id": "CmINF4xe7Uog"
      },
      "source": [
        "bos_df = pd.DataFrame(data, columns=feature_names)"
      ],
      "execution_count": 16,
      "outputs": []
    },
    {
      "cell_type": "code",
      "metadata": {
        "colab": {
          "base_uri": "https://localhost:8080/"
        },
        "id": "Oz78HMs37Uog",
        "outputId": "cae480e1-d308-468f-a06d-b2801734241e"
      },
      "source": [
        "print(bos_df.head())"
      ],
      "execution_count": 17,
      "outputs": [
        {
          "output_type": "stream",
          "name": "stdout",
          "text": [
            "      CRIM    ZN  INDUS  CHAS    NOX     RM   AGE     DIS  RAD    TAX  \\\n",
            "0  0.00632  18.0   2.31   0.0  0.538  6.575  65.2  4.0900  1.0  296.0   \n",
            "1  0.02731   0.0   7.07   0.0  0.469  6.421  78.9  4.9671  2.0  242.0   \n",
            "2  0.02729   0.0   7.07   0.0  0.469  7.185  61.1  4.9671  2.0  242.0   \n",
            "3  0.03237   0.0   2.18   0.0  0.458  6.998  45.8  6.0622  3.0  222.0   \n",
            "4  0.06905   0.0   2.18   0.0  0.458  7.147  54.2  6.0622  3.0  222.0   \n",
            "\n",
            "   PTRATIO       B  LSTAT  \n",
            "0     15.3  396.90   4.98  \n",
            "1     17.8  396.90   9.14  \n",
            "2     17.8  392.83   4.03  \n",
            "3     18.7  394.63   2.94  \n",
            "4     18.7  396.90   5.33  \n"
          ]
        }
      ]
    },
    {
      "cell_type": "markdown",
      "metadata": {
        "id": "lxdvt7rb7Uoh"
      },
      "source": [
        "5-й элемент записи о доме (RM) - среднее число комнат в доме"
      ]
    },
    {
      "cell_type": "code",
      "metadata": {
        "collapsed": true,
        "id": "yzVOy32s7Uoh",
        "colab": {
          "base_uri": "https://localhost:8080/"
        },
        "outputId": "3b2fcc42-5b5b-4540-cfb9-da855625d88e"
      },
      "source": [
        "x = data[:, 5]\n",
        "x[:5]"
      ],
      "execution_count": 18,
      "outputs": [
        {
          "output_type": "execute_result",
          "data": {
            "text/plain": [
              "array([6.575, 6.421, 7.185, 6.998, 7.147])"
            ]
          },
          "metadata": {},
          "execution_count": 18
        }
      ]
    },
    {
      "cell_type": "markdown",
      "source": [
        "Цена"
      ],
      "metadata": {
        "id": "AAyM5bujeGVB"
      }
    },
    {
      "cell_type": "code",
      "metadata": {
        "collapsed": true,
        "id": "JL0EiQOR7Uoi",
        "colab": {
          "base_uri": "https://localhost:8080/"
        },
        "outputId": "df8430d0-2a58-447b-9c13-b9ca44a24f87"
      },
      "source": [
        "y = target\n",
        "y[:5]"
      ],
      "execution_count": 19,
      "outputs": [
        {
          "output_type": "execute_result",
          "data": {
            "text/plain": [
              "array([24. , 21.6, 34.7, 33.4, 36.2])"
            ]
          },
          "metadata": {},
          "execution_count": 19
        }
      ]
    },
    {
      "cell_type": "markdown",
      "metadata": {
        "id": "_cRoVKz57Uoi"
      },
      "source": [
        "Построим диаграмму, показывающую предполагаемую зависимость цены от числа комнат"
      ]
    },
    {
      "cell_type": "code",
      "metadata": {
        "id": "gyLzY-y17Uoi"
      },
      "source": [
        "from matplotlib import pyplot as plt"
      ],
      "execution_count": 20,
      "outputs": []
    },
    {
      "cell_type": "code",
      "metadata": {
        "colab": {
          "base_uri": "https://localhost:8080/",
          "height": 447
        },
        "id": "5YakiBZC7Uoj",
        "outputId": "707a3623-0440-4884-e3b8-a49da5b23fd8"
      },
      "source": [
        "plt.scatter(x, y, color = 'r')"
      ],
      "execution_count": 21,
      "outputs": [
        {
          "output_type": "execute_result",
          "data": {
            "text/plain": [
              "<matplotlib.collections.PathCollection at 0x7d366e3b8b50>"
            ]
          },
          "metadata": {},
          "execution_count": 21
        },
        {
          "output_type": "display_data",
          "data": {
            "text/plain": [
              "<Figure size 640x480 with 1 Axes>"
            ],
            "image/png": "[encoded data removed]"
          },
          "metadata": {}
        }
      ]
    },
    {
      "cell_type": "markdown",
      "metadata": {
        "id": "b3rlicPL7Uoj"
      },
      "source": [
        "Преобразование массива x в 2D для использования в обучении модели"
      ]
    },
    {
      "cell_type": "code",
      "metadata": {
        "colab": {
          "base_uri": "https://localhost:8080/"
        },
        "id": "0sSJThKA7Uok",
        "outputId": "8060f7fc-cbd4-408b-9036-585d6cde397a"
      },
      "source": [
        "import numpy as np\n",
        "x = np.transpose(np.atleast_2d(x))\n",
        "x.shape"
      ],
      "execution_count": 22,
      "outputs": [
        {
          "output_type": "execute_result",
          "data": {
            "text/plain": [
              "(506, 1)"
            ]
          },
          "metadata": {},
          "execution_count": 22
        }
      ]
    },
    {
      "cell_type": "markdown",
      "metadata": {
        "id": "EN1F7k3K7Uok"
      },
      "source": [
        "Создание объекта-модели, обучение и прогноз (аппроксимация)"
      ]
    },
    {
      "cell_type": "code",
      "metadata": {
        "collapsed": true,
        "id": "EVl9UcbL7Uok"
      },
      "source": [
        "from sklearn.linear_model import LinearRegression\n",
        "lr = LinearRegression()\n",
        "lr.fit(x, y)\n",
        "y_predicted = lr.predict(x)"
      ],
      "execution_count": 23,
      "outputs": []
    },
    {
      "cell_type": "markdown",
      "metadata": {
        "id": "S2rTBZbA7Uol"
      },
      "source": [
        "Построение графика"
      ]
    },
    {
      "cell_type": "code",
      "metadata": {
        "colab": {
          "base_uri": "https://localhost:8080/",
          "height": 449
        },
        "id": "Q6C3b1cx7Uol",
        "outputId": "49ed3bd4-fbea-4bea-ae2b-0a947ccd7f27"
      },
      "source": [
        "fig, ax = plt.subplots()\n",
        "ax.scatter(data[:, 5], target, color = 'r')\n",
        "ax.set_xlabel(\"Average number of rooms (RM)\")\n",
        "ax.set_ylabel(\"House Price\")\n",
        "xmin = x.min()\n",
        "xmax = x.max()\n",
        "ax.plot([xmin, xmax], lr.predict([[xmin], [xmax]]) , '-', lw=4)\n",
        "plt.show()"
      ],
      "execution_count": 24,
      "outputs": [
        {
          "output_type": "display_data",
          "data": {
            "text/plain": [
              "<Figure size 640x480 with 1 Axes>"
            ],
            "image/png": "[encoded data removed]"
          },
          "metadata": {}
        }
      ]
    },
    {
      "cell_type": "markdown",
      "metadata": {
        "id": "nYXBtTQn7Uom"
      },
      "source": [
        "Можно оценить качество аппроксимации, т.е. близость прогнозных и истинных значений, на основе среднеквадратичного отклонения и коэффициента детерминации с помощью функционала sklearn"
      ]
    },
    {
      "cell_type": "code",
      "metadata": {
        "colab": {
          "base_uri": "https://localhost:8080/"
        },
        "id": "b347j5y37Uom",
        "outputId": "6b321e57-4b26-478a-c00b-799cdb892daa"
      },
      "source": [
        "from sklearn.metrics import mean_squared_error, r2_score\n",
        "mse = mean_squared_error(y, lr.predict(x))\n",
        "print ('MSE на обучающей выборке = {:.4}'.format(mse))"
      ],
      "execution_count": 25,
      "outputs": [
        {
          "output_type": "stream",
          "name": "stdout",
          "text": [
            "MSE на обучающей выборке = 43.6\n"
          ]
        }
      ]
    },
    {
      "cell_type": "code",
      "metadata": {
        "colab": {
          "base_uri": "https://localhost:8080/"
        },
        "id": "RohaOP9p7Uom",
        "outputId": "207214b0-a5af-4e2a-8810-890f7f024771"
      },
      "source": [
        "rmse = np.sqrt(mse)\n",
        "print ('RMSE на обучающей выборке = {:.4}'.format(rmse))"
      ],
      "execution_count": 26,
      "outputs": [
        {
          "output_type": "stream",
          "name": "stdout",
          "text": [
            "RMSE на обучающей выборке = 6.603\n"
          ]
        }
      ]
    },
    {
      "cell_type": "code",
      "metadata": {
        "colab": {
          "base_uri": "https://localhost:8080/"
        },
        "id": "9bN_JL3s7Uon",
        "outputId": "a9fa6d5a-740e-4518-e458-6a86ec24603a"
      },
      "source": [
        "r2 = r2_score(y, lr.predict(x))\n",
        "print ('R2 на обучающей выборке = {:.4}'.format(r2))"
      ],
      "execution_count": 27,
      "outputs": [
        {
          "output_type": "stream",
          "name": "stdout",
          "text": [
            "R2 на обучающей выборке = 0.4835\n"
          ]
        }
      ]
    },
    {
      "cell_type": "markdown",
      "metadata": {
        "id": "u57YgiZN7Uon"
      },
      "source": [
        "Построим многомерную модель, с учетом всех признаков, получим оценки качества модели"
      ]
    },
    {
      "cell_type": "code",
      "metadata": {
        "colab": {
          "base_uri": "https://localhost:8080/"
        },
        "id": "RLgOaesu7Uon",
        "outputId": "1e1cdd69-c788-4888-f736-3fc7722d0aff"
      },
      "source": [
        "x = data\n",
        "y = target\n",
        "lr.fit(x, y)\n",
        "mse = mean_squared_error(y, lr.predict(x))\n",
        "print ('Многомерная модель')\n",
        "print ('MSE на обучающей выборке = {:.4}'.format(mse))\n",
        "rmse = np.sqrt(mse)\n",
        "print ('RMSE на обучающей выборке = {:.4}'.format(rmse))\n",
        "r2 = r2_score(y, lr.predict(x))\n",
        "print ('R2 на обучающей выборке = {:.4}'.format(r2))"
      ],
      "execution_count": 28,
      "outputs": [
        {
          "output_type": "stream",
          "name": "stdout",
          "text": [
            "Многомерная модель\n",
            "MSE на обучающей выборке = 21.89\n",
            "RMSE на обучающей выборке = 4.679\n",
            "R2 на обучающей выборке = 0.7406\n"
          ]
        }
      ]
    },
    {
      "cell_type": "markdown",
      "metadata": {
        "id": "5EZRfbip7Uoo"
      },
      "source": [
        "Вывод - коэффициент детерминации повысился, следовательно, необходим учет ряда дополнительных признаков"
      ]
    },
    {
      "cell_type": "markdown",
      "metadata": {
        "id": "b8-_Gd9I7Uoo"
      },
      "source": [
        "Для визуализации результата прогноза по многомерной модели отобразим соотношение между фактической и прогнозной ценами"
      ]
    },
    {
      "cell_type": "code",
      "metadata": {
        "colab": {
          "base_uri": "https://localhost:8080/",
          "height": 449
        },
        "id": "kIF0WChW7Uoo",
        "outputId": "fa6a31cf-fef8-4218-e642-419d05e374a6"
      },
      "source": [
        "fig, ax = plt.subplots()\n",
        "# график идеальной модели прогноз=факт :\n",
        "ax.plot([0, 50], [0, 50], '-', lw=4)\n",
        "\n",
        "# прогноз-факт\n",
        "ax.scatter(lr.predict(x), target, color = 'r')\n",
        "\n",
        "ax.set_xlabel('Прогноз')\n",
        "ax.set_ylabel('Факт')\n",
        "plt.show()"
      ],
      "execution_count": 29,
      "outputs": [
        {
          "output_type": "display_data",
          "data": {
            "text/plain": [
              "<Figure size 640x480 with 1 Axes>"
            ],
            "image/png": "[encoded data removed]"
          },
          "metadata": {}
        }
      ]
    },
    {
      "cell_type": "markdown",
      "metadata": {
        "id": "eS7qzr0h7Uop"
      },
      "source": [
        "Кросс-валидация дает более корректную оценку точности прогнозной модели"
      ]
    },
    {
      "cell_type": "code",
      "metadata": {
        "colab": {
          "base_uri": "https://localhost:8080/"
        },
        "id": "byGaxMY_7Uop",
        "outputId": "7d9d22d2-3773-48a9-e506-039cf096a670"
      },
      "source": [
        "from sklearn.model_selection import KFold\n",
        "kf = KFold(n_splits = 5)\n",
        "p = np.zeros_like(y)\n",
        "for train, test in kf.split(x):\n",
        "    lr.fit(x[train], y[train])\n",
        "    p[test] = lr.predict(x[test])\n",
        "rmse_cv = np.sqrt(mean_squared_error(p, y))\n",
        "print ('RMSE при кросс-валидации = {:.4}'.format(rmse_cv))"
      ],
      "execution_count": 30,
      "outputs": [
        {
          "output_type": "stream",
          "name": "stdout",
          "text": [
            "RMSE при кросс-валидации = 6.09\n"
          ]
        }
      ]
    },
    {
      "cell_type": "markdown",
      "metadata": {
        "id": "8ujWGKRE7Uoq"
      },
      "source": [
        "Эластичная сеть - оценки модели"
      ]
    },
    {
      "cell_type": "code",
      "metadata": {
        "colab": {
          "base_uri": "https://localhost:8080/"
        },
        "id": "NnLj3R5p7Uoq",
        "outputId": "92fd6fac-7897-4cc5-e228-342383bbe9c6"
      },
      "source": [
        "from sklearn.linear_model import Lasso, ElasticNet\n",
        "en = ElasticNet(alpha = 0.5)\n",
        "en.fit(x, y)\n",
        "mse = mean_squared_error(y, en.predict(x))\n",
        "print ('MSE на обучающей выборке = {:.4}'.format(mse))\n",
        "rmse = np.sqrt(mse)\n",
        "print ('RMSE на обучающей выборке = {:.4}'.format(rmse))\n",
        "r2 = r2_score(y, en.predict(x))\n",
        "print ('R2 на обучающей выборке = {:.4}'.format(r2))\n",
        "p = np.zeros_like(y)\n",
        "for train, test in kf.split(x):\n",
        "    en.fit(x[train], y[train])\n",
        "    p[test] = en.predict(x[test])\n",
        "rmse_cv = np.sqrt(mean_squared_error(p, y))\n",
        "print ('RMSE при кросс-валидации = {:.4}'.format(rmse_cv))"
      ],
      "execution_count": 31,
      "outputs": [
        {
          "output_type": "stream",
          "name": "stdout",
          "text": [
            "MSE на обучающей выборке = 24.85\n",
            "RMSE на обучающей выборке = 4.985\n",
            "R2 на обучающей выборке = 0.7056\n",
            "RMSE при кросс-валидации = 5.55\n"
          ]
        }
      ]
    },
    {
      "cell_type": "markdown",
      "metadata": {
        "id": "0fEuIu837Uoq"
      },
      "source": [
        "На обучающей выборке погрешность больше, чем для обычной модели. Но результаты кросс-валидации лучше."
      ]
    },
    {
      "cell_type": "markdown",
      "source": [
        "## Как увидеть влияние регуляризации на модель через ее параметры?"
      ],
      "metadata": {
        "id": "chmTzXkSXF6X"
      }
    },
    {
      "cell_type": "markdown",
      "metadata": {
        "id": "UiZVl5yG7Uor"
      },
      "source": [
        "Lasso - визуализация влияния коэффициента регуляризации на коэффициенты модели"
      ]
    },
    {
      "cell_type": "markdown",
      "metadata": {
        "id": "ykTZ6-7QPdOz"
      },
      "source": [
        "Для этого используется метод path объекта-модели.\n",
        "\n",
        "Для графика удобнее использовать логарифмическую шкалу, то есть отображать порядок значений."
      ]
    },
    {
      "cell_type": "code",
      "metadata": {
        "colab": {
          "base_uri": "https://localhost:8080/",
          "height": 454
        },
        "id": "b6N-QVgV7Uor",
        "outputId": "4cc2f158-9faa-4b20-9bc4-dbac5de7fee5"
      },
      "source": [
        "las = Lasso()\n",
        "alphas = np.logspace(-5, 2, 1000) # логарифмическая шкала\n",
        "alphas, coefs, _ = las.path(x, y, alphas = alphas)\n",
        "fig, ax = plt.subplots()\n",
        "ax.plot(alphas, coefs.T)\n",
        "ax.set_xscale('log')\n",
        "ax.set_xlim(alphas.max(), alphas.min())\n",
        "ax.set_xlabel('Коэффициент регуляризации')\n",
        "ax.set_ylabel('Коэффициенты модели')\n",
        "plt.show()"
      ],
      "execution_count": 32,
      "outputs": [
        {
          "output_type": "display_data",
          "data": {
            "text/plain": [
              "<Figure size 640x480 with 1 Axes>"
            ],
            "image/png": "[encoded data removed]"
          },
          "metadata": {}
        }
      ]
    },
    {
      "cell_type": "markdown",
      "metadata": {
        "id": "DObYAoVu7Uor"
      },
      "source": [
        "Установление значений коэффициентов - обычное решение. По графику видно, что значимых признаков 3-5 (смотря что учитывать)."
      ]
    }
  ]
}