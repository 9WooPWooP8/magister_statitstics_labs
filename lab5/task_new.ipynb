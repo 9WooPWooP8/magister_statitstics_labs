{
 "cells": [
  {
   "cell_type": "code",
   "execution_count": 22,
   "id": "b50bc3d8-0458-45da-b470-047b136c5325",
   "metadata": {},
   "outputs": [
    {
     "name": "stdout",
     "output_type": "stream",
     "text": [
      "Path to dataset files: /Users/nikitabykov/.cache/kagglehub/datasets/anthonypino/melbourne-housing-market/versions/27/MELBOURNE_HOUSE_PRICES_LESS.csv\n"
     ]
    }
   ],
   "source": [
    "import pandas as pd\n",
    "import kagglehub\n",
    "\n",
    "# Download latest version\n",
    "path = kagglehub.dataset_download(\"anthonypino/melbourne-housing-market\")\n",
    "\n",
    "print(\"Path to dataset files:\", f\"{path}/MELBOURNE_HOUSE_PRICES_LESS.csv\")\n",
    "df = pd.read_csv(f\"{path}/MELBOURNE_HOUSE_PRICES_LESS.csv\")"
   ]
  },
  {
   "cell_type": "code",
   "execution_count": 23,
   "id": "d8ef9620-1ddb-452c-b869-498293bdeda8",
   "metadata": {},
   "outputs": [
    {
     "data": {
      "text/html": [
       "<div>\n",
       "<style scoped>\n",
       "    .dataframe tbody tr th:only-of-type {\n",
       "        vertical-align: middle;\n",
       "    }\n",
       "\n",
       "    .dataframe tbody tr th {\n",
       "        vertical-align: top;\n",
       "    }\n",
       "\n",
       "    .dataframe thead th {\n",
       "        text-align: right;\n",
       "    }\n",
       "</style>\n",
       "<table border=\"1\" class=\"dataframe\">\n",
       "  <thead>\n",
       "    <tr style=\"text-align: right;\">\n",
       "      <th></th>\n",
       "      <th>Suburb</th>\n",
       "      <th>Address</th>\n",
       "      <th>Rooms</th>\n",
       "      <th>Type</th>\n",
       "      <th>Price</th>\n",
       "      <th>Method</th>\n",
       "      <th>SellerG</th>\n",
       "      <th>Date</th>\n",
       "      <th>Postcode</th>\n",
       "      <th>Regionname</th>\n",
       "      <th>Propertycount</th>\n",
       "      <th>Distance</th>\n",
       "      <th>CouncilArea</th>\n",
       "    </tr>\n",
       "  </thead>\n",
       "  <tbody>\n",
       "    <tr>\n",
       "      <th>0</th>\n",
       "      <td>Abbotsford</td>\n",
       "      <td>49 Lithgow St</td>\n",
       "      <td>3</td>\n",
       "      <td>h</td>\n",
       "      <td>1490000.0</td>\n",
       "      <td>S</td>\n",
       "      <td>Jellis</td>\n",
       "      <td>1/04/2017</td>\n",
       "      <td>3067</td>\n",
       "      <td>Northern Metropolitan</td>\n",
       "      <td>4019</td>\n",
       "      <td>3.0</td>\n",
       "      <td>Yarra City Council</td>\n",
       "    </tr>\n",
       "    <tr>\n",
       "      <th>1</th>\n",
       "      <td>Abbotsford</td>\n",
       "      <td>59A Turner St</td>\n",
       "      <td>3</td>\n",
       "      <td>h</td>\n",
       "      <td>1220000.0</td>\n",
       "      <td>S</td>\n",
       "      <td>Marshall</td>\n",
       "      <td>1/04/2017</td>\n",
       "      <td>3067</td>\n",
       "      <td>Northern Metropolitan</td>\n",
       "      <td>4019</td>\n",
       "      <td>3.0</td>\n",
       "      <td>Yarra City Council</td>\n",
       "    </tr>\n",
       "    <tr>\n",
       "      <th>2</th>\n",
       "      <td>Abbotsford</td>\n",
       "      <td>119B Yarra St</td>\n",
       "      <td>3</td>\n",
       "      <td>h</td>\n",
       "      <td>1420000.0</td>\n",
       "      <td>S</td>\n",
       "      <td>Nelson</td>\n",
       "      <td>1/04/2017</td>\n",
       "      <td>3067</td>\n",
       "      <td>Northern Metropolitan</td>\n",
       "      <td>4019</td>\n",
       "      <td>3.0</td>\n",
       "      <td>Yarra City Council</td>\n",
       "    </tr>\n",
       "    <tr>\n",
       "      <th>3</th>\n",
       "      <td>Aberfeldie</td>\n",
       "      <td>68 Vida St</td>\n",
       "      <td>3</td>\n",
       "      <td>h</td>\n",
       "      <td>1515000.0</td>\n",
       "      <td>S</td>\n",
       "      <td>Barry</td>\n",
       "      <td>1/04/2017</td>\n",
       "      <td>3040</td>\n",
       "      <td>Western Metropolitan</td>\n",
       "      <td>1543</td>\n",
       "      <td>7.5</td>\n",
       "      <td>Moonee Valley City Council</td>\n",
       "    </tr>\n",
       "    <tr>\n",
       "      <th>4</th>\n",
       "      <td>Airport West</td>\n",
       "      <td>92 Clydesdale Rd</td>\n",
       "      <td>2</td>\n",
       "      <td>h</td>\n",
       "      <td>670000.0</td>\n",
       "      <td>S</td>\n",
       "      <td>Nelson</td>\n",
       "      <td>1/04/2017</td>\n",
       "      <td>3042</td>\n",
       "      <td>Western Metropolitan</td>\n",
       "      <td>3464</td>\n",
       "      <td>10.4</td>\n",
       "      <td>Moonee Valley City Council</td>\n",
       "    </tr>\n",
       "  </tbody>\n",
       "</table>\n",
       "</div>"
      ],
      "text/plain": [
       "         Suburb           Address  Rooms Type      Price Method   SellerG  \\\n",
       "0    Abbotsford     49 Lithgow St      3    h  1490000.0      S    Jellis   \n",
       "1    Abbotsford     59A Turner St      3    h  1220000.0      S  Marshall   \n",
       "2    Abbotsford     119B Yarra St      3    h  1420000.0      S    Nelson   \n",
       "3    Aberfeldie        68 Vida St      3    h  1515000.0      S     Barry   \n",
       "4  Airport West  92 Clydesdale Rd      2    h   670000.0      S    Nelson   \n",
       "\n",
       "        Date  Postcode             Regionname  Propertycount  Distance  \\\n",
       "0  1/04/2017      3067  Northern Metropolitan           4019       3.0   \n",
       "1  1/04/2017      3067  Northern Metropolitan           4019       3.0   \n",
       "2  1/04/2017      3067  Northern Metropolitan           4019       3.0   \n",
       "3  1/04/2017      3040   Western Metropolitan           1543       7.5   \n",
       "4  1/04/2017      3042   Western Metropolitan           3464      10.4   \n",
       "\n",
       "                  CouncilArea  \n",
       "0          Yarra City Council  \n",
       "1          Yarra City Council  \n",
       "2          Yarra City Council  \n",
       "3  Moonee Valley City Council  \n",
       "4  Moonee Valley City Council  "
      ]
     },
     "execution_count": 23,
     "metadata": {},
     "output_type": "execute_result"
    }
   ],
   "source": [
    "df.head()"
   ]
  },
  {
   "cell_type": "code",
   "execution_count": 24,
   "id": "393ad1fe-d6c4-4708-834d-69bf3fb477b9",
   "metadata": {},
   "outputs": [
    {
     "data": {
      "text/html": [
       "<div>\n",
       "<style scoped>\n",
       "    .dataframe tbody tr th:only-of-type {\n",
       "        vertical-align: middle;\n",
       "    }\n",
       "\n",
       "    .dataframe tbody tr th {\n",
       "        vertical-align: top;\n",
       "    }\n",
       "\n",
       "    .dataframe thead th {\n",
       "        text-align: right;\n",
       "    }\n",
       "</style>\n",
       "<table border=\"1\" class=\"dataframe\">\n",
       "  <thead>\n",
       "    <tr style=\"text-align: right;\">\n",
       "      <th></th>\n",
       "      <th>count</th>\n",
       "      <th>mean</th>\n",
       "      <th>std</th>\n",
       "      <th>min</th>\n",
       "      <th>25%</th>\n",
       "      <th>50%</th>\n",
       "      <th>75%</th>\n",
       "      <th>max</th>\n",
       "    </tr>\n",
       "  </thead>\n",
       "  <tbody>\n",
       "    <tr>\n",
       "      <th>Rooms</th>\n",
       "      <td>63023.0</td>\n",
       "      <td>3.110595</td>\n",
       "      <td>0.957551</td>\n",
       "      <td>1.0</td>\n",
       "      <td>3.0</td>\n",
       "      <td>3.0</td>\n",
       "      <td>4.0</td>\n",
       "      <td>31.0</td>\n",
       "    </tr>\n",
       "    <tr>\n",
       "      <th>Price</th>\n",
       "      <td>48433.0</td>\n",
       "      <td>997898.241488</td>\n",
       "      <td>593498.919037</td>\n",
       "      <td>85000.0</td>\n",
       "      <td>620000.0</td>\n",
       "      <td>830000.0</td>\n",
       "      <td>1220000.0</td>\n",
       "      <td>11200000.0</td>\n",
       "    </tr>\n",
       "    <tr>\n",
       "      <th>Postcode</th>\n",
       "      <td>63023.0</td>\n",
       "      <td>3125.673897</td>\n",
       "      <td>125.626877</td>\n",
       "      <td>3000.0</td>\n",
       "      <td>3056.0</td>\n",
       "      <td>3107.0</td>\n",
       "      <td>3163.0</td>\n",
       "      <td>3980.0</td>\n",
       "    </tr>\n",
       "    <tr>\n",
       "      <th>Propertycount</th>\n",
       "      <td>63023.0</td>\n",
       "      <td>7617.728131</td>\n",
       "      <td>4424.423167</td>\n",
       "      <td>39.0</td>\n",
       "      <td>4380.0</td>\n",
       "      <td>6795.0</td>\n",
       "      <td>10412.0</td>\n",
       "      <td>21650.0</td>\n",
       "    </tr>\n",
       "    <tr>\n",
       "      <th>Distance</th>\n",
       "      <td>63023.0</td>\n",
       "      <td>12.684829</td>\n",
       "      <td>7.592015</td>\n",
       "      <td>0.0</td>\n",
       "      <td>7.0</td>\n",
       "      <td>11.4</td>\n",
       "      <td>16.7</td>\n",
       "      <td>64.1</td>\n",
       "    </tr>\n",
       "  </tbody>\n",
       "</table>\n",
       "</div>"
      ],
      "text/plain": [
       "                 count           mean            std      min       25%  \\\n",
       "Rooms          63023.0       3.110595       0.957551      1.0       3.0   \n",
       "Price          48433.0  997898.241488  593498.919037  85000.0  620000.0   \n",
       "Postcode       63023.0    3125.673897     125.626877   3000.0    3056.0   \n",
       "Propertycount  63023.0    7617.728131    4424.423167     39.0    4380.0   \n",
       "Distance       63023.0      12.684829       7.592015      0.0       7.0   \n",
       "\n",
       "                    50%        75%         max  \n",
       "Rooms               3.0        4.0        31.0  \n",
       "Price          830000.0  1220000.0  11200000.0  \n",
       "Postcode         3107.0     3163.0      3980.0  \n",
       "Propertycount    6795.0    10412.0     21650.0  \n",
       "Distance           11.4       16.7        64.1  "
      ]
     },
     "execution_count": 24,
     "metadata": {},
     "output_type": "execute_result"
    }
   ],
   "source": [
    "df.describe().transpose()"
   ]
  },
  {
   "cell_type": "code",
   "execution_count": 26,
   "id": "0a736940-10d0-4a6c-a0d0-85185ff645a2",
   "metadata": {},
   "outputs": [
    {
     "data": {
      "text/plain": [
       "476"
      ]
     },
     "execution_count": 26,
     "metadata": {},
     "output_type": "execute_result"
    }
   ],
   "source": [
    "len(df[\"SellerG\"].unique())"
   ]
  },
  {
   "cell_type": "code",
   "execution_count": 27,
   "id": "af0ea6cb-8a26-4642-bf45-354d137d7672",
   "metadata": {},
   "outputs": [],
   "source": [
    "# Method:\n",
    "# S - property sold;\n",
    "# SP - property sold prior;\n",
    "# PI - property passed in;\n",
    "# PN - sold prior not disclosed;\n",
    "# SN - sold not disclosed;\n",
    "# NB - no bid;\n",
    "# VB - vendor bid;\n",
    "# W - withdrawn prior to auction;\n",
    "# SA - sold after auction;\n",
    "# SS - sold after auction price not disclosed.\n",
    "# N/A - price or highest bid not available. \n"
   ]
  },
  {
   "cell_type": "code",
   "execution_count": 28,
   "id": "e6b05bc0-fa56-4a37-9aba-c8049397547f",
   "metadata": {},
   "outputs": [],
   "source": [
    "# Type:\n",
    "# br - bedroom(s);\n",
    "# h - house,cottage,villa, semi,terrace;\n",
    "# u - unit, duplex;\n",
    "# t - townhouse;\n",
    "# dev site - development site;\n",
    "# o res - other residential."
   ]
  },
  {
   "cell_type": "code",
   "execution_count": 30,
   "id": "1fc8c410-2e59-4322-a29d-207d6cfd17d3",
   "metadata": {},
   "outputs": [],
   "source": [
    "df = df.drop(\"SellerG\", axis=1).drop(\"Address\", axis=1)"
   ]
  },
  {
   "cell_type": "code",
   "execution_count": 31,
   "id": "9ce33360-5ed5-471a-b1f5-065fd8ed5a8a",
   "metadata": {},
   "outputs": [
    {
     "data": {
      "text/plain": [
       "Suburb               0\n",
       "Rooms                0\n",
       "Type                 0\n",
       "Price            14590\n",
       "Method               0\n",
       "Date                 0\n",
       "Postcode             0\n",
       "Regionname           0\n",
       "Propertycount        0\n",
       "Distance             0\n",
       "CouncilArea          0\n",
       "dtype: int64"
      ]
     },
     "execution_count": 31,
     "metadata": {},
     "output_type": "execute_result"
    }
   ],
   "source": [
    "df.isnull().sum()"
   ]
  },
  {
   "cell_type": "code",
   "execution_count": 32,
   "id": "1806751e-5115-4122-bf3e-4461486067a6",
   "metadata": {},
   "outputs": [
    {
     "data": {
      "text/plain": [
       "Suburb           63023\n",
       "Rooms            63023\n",
       "Type             63023\n",
       "Price            48433\n",
       "Method           63023\n",
       "Date             63023\n",
       "Postcode         63023\n",
       "Regionname       63023\n",
       "Propertycount    63023\n",
       "Distance         63023\n",
       "CouncilArea      63023\n",
       "dtype: int64"
      ]
     },
     "execution_count": 32,
     "metadata": {},
     "output_type": "execute_result"
    }
   ],
   "source": [
    "df.count()"
   ]
  },
  {
   "cell_type": "code",
   "execution_count": 33,
   "id": "859f2a96-1475-43b2-a4e8-9753ff51fedf",
   "metadata": {},
   "outputs": [],
   "source": [
    "df = df.dropna()"
   ]
  },
  {
   "cell_type": "code",
   "execution_count": 34,
   "id": "ee4c2ff8-a80f-473d-8032-700fc90a9d7c",
   "metadata": {},
   "outputs": [
    {
     "data": {
      "text/plain": [
       "Suburb           48433\n",
       "Rooms            48433\n",
       "Type             48433\n",
       "Price            48433\n",
       "Method           48433\n",
       "Date             48433\n",
       "Postcode         48433\n",
       "Regionname       48433\n",
       "Propertycount    48433\n",
       "Distance         48433\n",
       "CouncilArea      48433\n",
       "dtype: int64"
      ]
     },
     "execution_count": 34,
     "metadata": {},
     "output_type": "execute_result"
    }
   ],
   "source": [
    "df.count()"
   ]
  },
  {
   "cell_type": "code",
   "execution_count": null,
   "id": "367afe7c-d1b2-4ef9-af3f-afd99e067d23",
   "metadata": {},
   "outputs": [],
   "source": [
    "import pandas as pd\n",
    "import numpy as np\n",
    "import matplotlib.pyplot as plt\n",
    "from scipy.stats import gaussian_kde\n",
    "import seaborn as sns\n",
    "\n",
    "\n",
    "continuous_data_columns = [\"age\", \"credit_score\", \"balance\", \"estimated_salary\", \"tenure\"]\n",
    "categorical_data_columns = [\"country\", \"gender\", \"products_number\", \"credit_card\", \"active_member\"]\n",
    "\n",
    "\n",
    "fig, axs = plt.subplots(nrows=4, ncols=3, figsize=(15,20))\n",
    "axs=axs.flat\n",
    "for i in range(len(df.columns)-1):\n",
    "    sns.histplot(data=df, bins=15, stat=count x=df.columns[i],hue=\"Price\",ax=axs[i])"
   ]
  },
  {
   "cell_type": "code",
   "execution_count": null,
   "id": "9a4acc13-0539-4a43-b5b5-c3ee0a7f728b",
   "metadata": {},
   "outputs": [],
   "source": []
  }
 ],
 "metadata": {
  "kernelspec": {
   "display_name": "Python 3 (ipykernel)",
   "language": "python",
   "name": "python3"
  },
  "language_info": {
   "codemirror_mode": {
    "name": "ipython",
    "version": 3
   },
   "file_extension": ".py",
   "mimetype": "text/x-python",
   "name": "python",
   "nbconvert_exporter": "python",
   "pygments_lexer": "ipython3",
   "version": "3.12.7"
  }
 },
 "nbformat": 4,
 "nbformat_minor": 5
}
