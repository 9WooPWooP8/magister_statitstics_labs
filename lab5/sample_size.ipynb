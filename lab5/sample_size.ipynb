{
 "cells": [
  {
   "cell_type": "markdown",
   "metadata": {
    "id": "C7nFwMEntLYh"
   },
   "source": [
    "# Прямое вычисление размера выборки\n",
    "Можно использовать для бинарного классификатора, оценки параметров линейной регрессии и др.\n",
    "Основано на принципах математической статистики - какой размер выборки позволяет оценить попадание в доверительный интервал с заданными параметрами.\n",
    "Если вероятность попадания неизвестна, то указывается значение вероятности=0.5 - размер выборки будет наибольшим."
   ]
  },
  {
   "cell_type": "markdown",
   "metadata": {
    "id": "uSpR6_i25Tba"
   },
   "source": [
    "## Основные моменты\n",
    "Z-значение (или Z-оценка) — это статистическая мера, которая показывает, **на сколько стандартных отклонений значение отклоняется от среднего в нормальном распределении**. Оно используется для определения вероятности того, что случайная величина примет определенное значение.\n",
    "### Что надо учитывать:\n",
    "1. Нормальное распределение: Z-значения применяются в контексте нормального распределения, где данные распределены симметрично вокруг среднего значения.\n",
    "\n",
    "2. Формула: Z-значение рассчитывается по формуле:\n",
    "\n",
    "Z = (X - μ) / σ\n",
    "\n",
    "где:\n",
    "\n",
    "   • X — значение, для которого вычисляется Z-значение,\n",
    "\n",
    "   • μ — среднее значение выборки,\n",
    "\n",
    "   • σ — стандартное отклонение выборки.\n",
    "\n",
    "3. Уровень доверия: В контексте статистики и выборок Z-значения используются для определения критических значений для заданного уровня доверия (например, 90%, 95%, 99%). Например, для 95% уровня доверия Z-значение составляет примерно 1.96, что означает, что 95% всех значений находятся в пределах ±1.96 стандартных отклонений от среднего.\n"
   ]
  },
  {
   "cell_type": "markdown",
   "metadata": {
    "id": "kPLxYKbM-MBP"
   },
   "source": [
    "Подробное изложение уместности данного подхода для задач машинного обучения приведено по ссылке https://stats.stackexchange.com/questions/411692/determining-sample-size-for-ml-algorithm-validation"
   ]
  },
  {
   "cell_type": "markdown",
   "metadata": {
    "id": "QXoXIbHV-J4C"
   },
   "source": []
  },
  {
   "cell_type": "markdown",
   "metadata": {
    "id": "Hqf_YMY26JLx"
   },
   "source": [
    "### Пример прямого вычисления\n",
    "Можно изменять исходные данные, чтобы отследить изменение размера выборки."
   ]
  },
  {
   "cell_type": "code",
   "execution_count": 2,
   "metadata": {
    "id": "ZQjllrpZsb7k"
   },
   "outputs": [],
   "source": [
    "import math\n",
    "\n",
    "def calculate_sample_size(confidence_level, margin_of_error, p):\n",
    "    # Z-значение для заданного уровня доверия\n",
    "    z_values = {\n",
    "        90: 1.645,\n",
    "        95: 1.96,\n",
    "        99: 2.576\n",
    "    }\n",
    "\n",
    "    # Получаем Z-значение\n",
    "    z = z_values[confidence_level]\n",
    "\n",
    "    # Формула для расчета размера выборки\n",
    "    n = (z**2 * p * (1 - p)) / (margin_of_error**2)\n",
    "\n",
    "    return math.ceil(n)  # Округление до ближайшего большего целого\n",
    "\n"
   ]
  },
  {
   "cell_type": "code",
   "execution_count": 3,
   "metadata": {
    "colab": {
     "base_uri": "https://localhost:8080/"
    },
    "id": "O9j3K0rF6n82",
    "outputId": "a4b73b2c-6c00-4067-cb00-06c4d51bc7c6"
   },
   "outputs": [
    {
     "name": "stdout",
     "output_type": "stream",
     "text": [
      "Необходимый размер выборки: 385\n"
     ]
    }
   ],
   "source": [
    "# Пример 1\n",
    "confidence_level = 95  # уровень доверия в процентах\n",
    "margin_of_error = 0.05  # допустимая ошибка (например, 5%)\n",
    "p = 0.5  # предполагаемая доля  (если неизвестно, обычно берут 0.5)\n",
    "\n",
    "sample_size = calculate_sample_size(confidence_level, margin_of_error, p)\n",
    "print(f\"Необходимый размер выборки: {sample_size}\")\n"
   ]
  },
  {
   "cell_type": "code",
   "execution_count": 4,
   "metadata": {
    "colab": {
     "base_uri": "https://localhost:8080/"
    },
    "id": "AZAyUlWl6xxa",
    "outputId": "58706507-dd18-4080-e7f3-d34ca1551d72"
   },
   "outputs": [
    {
     "name": "stdout",
     "output_type": "stream",
     "text": [
      "Необходимый размер выборки: 271\n"
     ]
    }
   ],
   "source": [
    "# Пример 2\n",
    "confidence_level = 90  # уровень доверия в процентах\n",
    "margin_of_error = 0.05  # допустимая ошибка (например, 5%)\n",
    "p = 0.5  # предполагаемая доля  (если неизвестно, обычно берут 0.5)\n",
    "\n",
    "sample_size = calculate_sample_size(confidence_level, margin_of_error, p)\n",
    "print(f\"Необходимый размер выборки: {sample_size}\")\n"
   ]
  }
 ],
 "metadata": {
  "colab": {
   "provenance": []
  },
  "kernelspec": {
   "display_name": "Python 3 (ipykernel)",
   "language": "python",
   "name": "python3"
  },
  "language_info": {
   "codemirror_mode": {
    "name": "ipython",
    "version": 3
   },
   "file_extension": ".py",
   "mimetype": "text/x-python",
   "name": "python",
   "nbconvert_exporter": "python",
   "pygments_lexer": "ipython3",
   "version": "3.12.7"
  }
 },
 "nbformat": 4,
 "nbformat_minor": 4
}
